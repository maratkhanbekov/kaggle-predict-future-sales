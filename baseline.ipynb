{
 "cells": [
  {
   "cell_type": "markdown",
   "metadata": {
    "colab_type": "text",
    "id": "fMCxzLZ5mSlp"
   },
   "source": [
    "## Init"
   ]
  },
  {
   "cell_type": "code",
   "execution_count": 0,
   "metadata": {
    "colab": {
     "base_uri": "https://localhost:8080/",
     "height": 122
    },
    "colab_type": "code",
    "executionInfo": {
     "elapsed": 66102,
     "status": "ok",
     "timestamp": 1582697074852,
     "user": {
      "displayName": "Marat Khanbekov",
      "photoUrl": "",
      "userId": "13863223712125979771"
     },
     "user_tz": -180
    },
    "id": "RWKvjWKzGlwt",
    "outputId": "3283dd0d-8bad-4f05-817a-da88f330aca7"
   },
   "outputs": [
    {
     "name": "stdout",
     "output_type": "stream",
     "text": [
      "Go to this URL in a browser: https://accounts.google.com/o/oauth2/auth?client_id=947318989803-6bn6qk8qdgf4n4g3pfee6491hc0brc4i.apps.googleusercontent.com&redirect_uri=urn%3aietf%3awg%3aoauth%3a2.0%3aoob&response_type=code&scope=email%20https%3a%2f%2fwww.googleapis.com%2fauth%2fdocs.test%20https%3a%2f%2fwww.googleapis.com%2fauth%2fdrive%20https%3a%2f%2fwww.googleapis.com%2fauth%2fdrive.photos.readonly%20https%3a%2f%2fwww.googleapis.com%2fauth%2fpeopleapi.readonly\n",
      "\n",
      "Enter your authorization code:\n",
      "··········\n",
      "Mounted at /content/drive\n"
     ]
    }
   ],
   "source": [
    "# Colab\n",
    "from google.colab import drive\n",
    "drive.mount('/content/drive')"
   ]
  },
  {
   "cell_type": "code",
   "execution_count": 0,
   "metadata": {
    "colab": {
     "base_uri": "https://localhost:8080/",
     "height": 34
    },
    "colab_type": "code",
    "executionInfo": {
     "elapsed": 2260,
     "status": "ok",
     "timestamp": 1582697079734,
     "user": {
      "displayName": "Marat Khanbekov",
      "photoUrl": "",
      "userId": "13863223712125979771"
     },
     "user_tz": -180
    },
    "id": "y8Eqy0FkGXm7",
    "outputId": "5895d43a-97ce-4904-8fc5-8261d760afc7"
   },
   "outputs": [
    {
     "name": "stdout",
     "output_type": "stream",
     "text": [
      "/content/drive/My Drive/git/Predict-Future-Sales-Kaggle\n"
     ]
    }
   ],
   "source": [
    "import pandas as pd\n",
    "import gc\n",
    "import numpy as np\n",
    "from datetime import datetime\n",
    "import seaborn as sns\n",
    "import matplotlib.pyplot as plt\n",
    "from tqdm import tqdm\n",
    "from functools import reduce\n",
    "\n",
    "from sklearn.metrics import mean_squared_error\n",
    "\n",
    "def rmse(y, y_pred):\n",
    "    return np.sqrt(mean_squared_error(y, y_pred)).round(3)\n",
    "\n",
    "from sklearn.ensemble import RandomForestRegressor\n",
    "\n",
    "\n",
    "import time\n",
    "from itertools import product\n",
    "\n",
    "from sklearn.preprocessing import LabelEncoder\n",
    "\n",
    "import lightgbm\n",
    "from sklearn.neighbors import NearestNeighbors\n",
    "%cd /content/drive/My\\ Drive/git/Predict-Future-Sales-Kaggle\n"
   ]
  },
  {
   "cell_type": "markdown",
   "metadata": {
    "colab_type": "text",
    "id": "ApfV3HNaGXni"
   },
   "source": [
    "### Load"
   ]
  },
  {
   "cell_type": "code",
   "execution_count": 0,
   "metadata": {
    "colab": {},
    "colab_type": "code",
    "id": "Vs_3hSmNGXn9"
   },
   "outputs": [],
   "source": [
    "train = pd.read_csv('./data/sales_train.csv')\n",
    "shops = pd.read_csv('./data/shops.csv')\n",
    "cats = pd.read_csv('./data/item_categories.csv')\n",
    "items = pd.read_csv('./data/items.csv')\n",
    "test = pd.read_csv('./data/test.csv')\n",
    "# sample_submission = pd.read_csv('./data/sample_submission.csv')"
   ]
  },
  {
   "cell_type": "markdown",
   "metadata": {
    "colab_type": "text",
    "id": "bpEMagn6GXpA"
   },
   "source": [
    "### Preprocessing"
   ]
  },
  {
   "cell_type": "code",
   "execution_count": 0,
   "metadata": {
    "colab": {},
    "colab_type": "code",
    "id": "fsMmvE8rGXpE"
   },
   "outputs": [],
   "source": [
    "# Outliers\n",
    "train['item_price'] = np.where(train['item_price']>60000, 60000, train['item_price'])\n",
    "train['item_cnt_day'] = np.where(train['item_cnt_day']>1000, 1000, train['item_cnt_day'])\n",
    "\n",
    "# Errors\n",
    "mode = train[(train['shop_id']==32)&(train['item_id']==2973)]['item_price'].mode()\n",
    "train.loc[train['item_price']<0, 'item_price'] = mode\n",
    "\n",
    "# Duplicates\n",
    "train.loc[train['shop_id']==0, 'shop_id'] = 57\n",
    "train.loc[train['shop_id']==1, 'shop_id'] = 58\n",
    "train.loc[train['shop_id']==10, 'shop_id'] = 11\n",
    "\n",
    "test.loc[test['shop_id']==0, 'shop_id'] = 57\n",
    "test.loc[test['shop_id']==1, 'shop_id'] = 58\n",
    "test.loc[test['shop_id']==10, 'shop_id'] = 11"
   ]
  },
  {
   "cell_type": "code",
   "execution_count": 0,
   "metadata": {
    "colab": {
     "base_uri": "https://localhost:8080/",
     "height": 34
    },
    "colab_type": "code",
    "executionInfo": {
     "elapsed": 581329,
     "status": "ok",
     "timestamp": 1581945797551,
     "user": {
      "displayName": "Marat Khanbekov",
      "photoUrl": "",
      "userId": "13863223712125979771"
     },
     "user_tz": -180
    },
    "id": "YoNFTHJ6GXpi",
    "outputId": "c98f1742-3df0-462d-f841-30803f67feba"
   },
   "outputs": [
    {
     "data": {
      "text/plain": [
       "0.03698253631591797"
      ]
     },
     "execution_count": 26,
     "metadata": {
      "tags": []
     },
     "output_type": "execute_result"
    }
   ],
   "source": [
    "# Shops\n",
    "ts = time.time()\n",
    "shops.loc[shops['shop_name'] == 'Сергиев Посад ТЦ \"7Я\"', 'shop_name'] = 'СергиевПосад ТЦ \"7Я\"'\n",
    "shops['city'] = shops['shop_name'].apply(lambda x: x.split(' ')[0])\n",
    "shops.loc[shops['city']=='!Якутск', 'city'] = 'Якутск'\n",
    "shops['city_code'] = LabelEncoder().fit_transform(shops['city'])\n",
    "shops_in_city_cnt = shops['city_code'].value_counts().reset_index(name='total_shops_in_city_cnt')\n",
    "shops = pd.merge(shops, shops_in_city_cnt, left_on='city_code', right_on='index', how='left')\n",
    "shops = shops[['shop_id', 'city_code', 'total_shops_in_city_cnt']]\n",
    "time.time() - ts"
   ]
  },
  {
   "cell_type": "code",
   "execution_count": 0,
   "metadata": {
    "colab": {
     "base_uri": "https://localhost:8080/",
     "height": 34
    },
    "colab_type": "code",
    "executionInfo": {
     "elapsed": 581313,
     "status": "ok",
     "timestamp": 1581945797556,
     "user": {
      "displayName": "Marat Khanbekov",
      "photoUrl": "",
      "userId": "13863223712125979771"
     },
     "user_tz": -180
    },
    "id": "QaJcRoRfGXtx",
    "outputId": "2ae59a89-293e-4e85-fc1f-d417653b0271"
   },
   "outputs": [
    {
     "data": {
      "text/plain": [
       "0.008412837982177734"
      ]
     },
     "execution_count": 27,
     "metadata": {
      "tags": []
     },
     "output_type": "execute_result"
    }
   ],
   "source": [
    "# Cats\n",
    "ts = time.time()\n",
    "cats['split'] =\\\n",
    "    cats['item_category_name'].apply(lambda x: [w for w in x.split('-')])\n",
    "cats['type'] = cats['split'].apply(lambda x: x[0].strip())\n",
    "cats['type_code'] = LabelEncoder().fit_transform(cats['type'])\n",
    "cats['subtype'] = cats['split']\\\n",
    "    .apply(lambda x: x[1].strip() if len(x)>1 else x[0].strip())\n",
    "cats['subtype_code'] = LabelEncoder().fit_transform(cats['subtype'])\n",
    "cats = cats[['item_category_id', 'type_code', 'subtype_code']]\n",
    "time.time() - ts"
   ]
  },
  {
   "cell_type": "code",
   "execution_count": 0,
   "metadata": {
    "colab": {},
    "colab_type": "code",
    "id": "Kx_jmCTBGXuG"
   },
   "outputs": [],
   "source": [
    "# Items\n",
    "items.drop('item_name', axis=1, inplace=True)"
   ]
  },
  {
   "cell_type": "code",
   "execution_count": 0,
   "metadata": {
    "colab": {
     "base_uri": "https://localhost:8080/",
     "height": 34
    },
    "colab_type": "code",
    "executionInfo": {
     "elapsed": 594426,
     "status": "ok",
     "timestamp": 1581945810699,
     "user": {
      "displayName": "Marat Khanbekov",
      "photoUrl": "",
      "userId": "13863223712125979771"
     },
     "user_tz": -180
    },
    "id": "Wa_r2vOzGXuM",
    "outputId": "0e23fbd9-0f6a-428c-cb52-806ae6f92bbe"
   },
   "outputs": [
    {
     "data": {
      "text/plain": [
       "13.292612314224243"
      ]
     },
     "execution_count": 29,
     "metadata": {
      "tags": []
     },
     "output_type": "execute_result"
    }
   ],
   "source": [
    "# Structure for train df\n",
    "ts = time.time()\n",
    "df = []\n",
    "keys = ['date_block_num', 'shop_id', 'item_id']\n",
    "\n",
    "for i in range(34):\n",
    "    sales = train[train.date_block_num==i]\n",
    "    df.append(np.array(list(product([i], sales.shop_id.unique(), sales.item_id.unique())), dtype='int16'))\n",
    "df = pd.DataFrame(np.vstack(df), columns=keys)\n",
    "df['date_block_num'] = df['date_block_num'].astype(np.int8)\n",
    "df['shop_id'] = df['shop_id'].astype(np.int8)\n",
    "df['item_id'] = df['item_id'].astype(np.int16)\n",
    "df.sort_values(keys, inplace=True)\n",
    "time.time() - ts"
   ]
  },
  {
   "cell_type": "code",
   "execution_count": 0,
   "metadata": {
    "colab": {
     "base_uri": "https://localhost:8080/",
     "height": 34
    },
    "colab_type": "code",
    "executionInfo": {
     "elapsed": 601070,
     "status": "ok",
     "timestamp": 1581945817363,
     "user": {
      "displayName": "Marat Khanbekov",
      "photoUrl": "",
      "userId": "13863223712125979771"
     },
     "user_tz": -180
    },
    "id": "lt-mXeMJGXub",
    "outputId": "05c3a590-a470-4a51-c083-fe5086aae282"
   },
   "outputs": [
    {
     "data": {
      "text/plain": [
       "5.9491801261901855"
      ]
     },
     "execution_count": 10,
     "metadata": {
      "tags": []
     },
     "output_type": "execute_result"
    },
    {
     "data": {
      "text/plain": [
       "6.631270170211792"
      ]
     },
     "execution_count": 30,
     "metadata": {
      "tags": []
     },
     "output_type": "execute_result"
    }
   ],
   "source": [
    "# Target creating\n",
    "ts = time.time()\n",
    "gr = train.groupby(keys).agg({'item_cnt_day': ['sum']})\n",
    "gr.columns = ['item_cnt_month']\n",
    "gr.reset_index(inplace=True)\n",
    "\n",
    "df = pd.merge(df, gr, on=keys, how='left')\n",
    "df['item_cnt_month'] = df['item_cnt_month']\\\n",
    "    .fillna(0)\\\n",
    "    .clip(0, 20)\\\n",
    "    .astype(np.float16)\n",
    "time.time() - ts"
   ]
  },
  {
   "cell_type": "code",
   "execution_count": 0,
   "metadata": {
    "colab": {
     "base_uri": "https://localhost:8080/",
     "height": 34
    },
    "colab_type": "code",
    "executionInfo": {
     "elapsed": 601055,
     "status": "ok",
     "timestamp": 1581945817364,
     "user": {
      "displayName": "Marat Khanbekov",
      "photoUrl": "",
      "userId": "13863223712125979771"
     },
     "user_tz": -180
    },
    "id": "2pxN0Kq3GXuu",
    "outputId": "a35d7bd4-7fc2-470c-f9c0-f59fa256a39c"
   },
   "outputs": [
    {
     "data": {
      "text/plain": [
       "0.17386746406555176"
      ]
     },
     "execution_count": 11,
     "metadata": {
      "tags": []
     },
     "output_type": "execute_result"
    },
    {
     "data": {
      "text/plain": [
       "0.1729896068572998"
      ]
     },
     "execution_count": 31,
     "metadata": {
      "tags": []
     },
     "output_type": "execute_result"
    }
   ],
   "source": [
    "# Train & Test concat\n",
    "ts = time.time()\n",
    "test['date_block_num'] = 34\n",
    "test['date_block_num'] = test['date_block_num'].astype(np.int8)\n",
    "test['shop_id'] = test['shop_id'].astype(np.int8)\n",
    "test['item_id'] = test['item_id'].astype(np.int16)\n",
    "df = pd.concat([df, test], ignore_index=True, sort=False, keys=keys)\n",
    "df.fillna(0, inplace=True)\n",
    "time.time() - ts"
   ]
  },
  {
   "cell_type": "code",
   "execution_count": 0,
   "metadata": {
    "colab": {
     "base_uri": "https://localhost:8080/",
     "height": 34
    },
    "colab_type": "code",
    "executionInfo": {
     "elapsed": 606035,
     "status": "ok",
     "timestamp": 1581945822372,
     "user": {
      "displayName": "Marat Khanbekov",
      "photoUrl": "",
      "userId": "13863223712125979771"
     },
     "user_tz": -180
    },
    "id": "fM05VWgMGXuy",
    "outputId": "bf011494-f922-451d-e390-fece35b1ec0b"
   },
   "outputs": [
    {
     "data": {
      "text/plain": [
       "4.4410436153411865"
      ]
     },
     "execution_count": 12,
     "metadata": {
      "tags": []
     },
     "output_type": "execute_result"
    },
    {
     "data": {
      "text/plain": [
       "4.838852882385254"
      ]
     },
     "execution_count": 32,
     "metadata": {
      "tags": []
     },
     "output_type": "execute_result"
    }
   ],
   "source": [
    "# Add attributes\n",
    "ts = time.time()\n",
    "df = pd.merge(df, shops, on='shop_id', how='left')\n",
    "df = pd.merge(df, items, on='item_id', how='left')\n",
    "df = pd.merge(df, cats, on='item_category_id', how='left')\n",
    "time.time() - ts"
   ]
  },
  {
   "cell_type": "code",
   "execution_count": 0,
   "metadata": {
    "colab": {
     "base_uri": "https://localhost:8080/",
     "height": 34
    },
    "colab_type": "code",
    "executionInfo": {
     "elapsed": 612886,
     "status": "ok",
     "timestamp": 1581945829236,
     "user": {
      "displayName": "Marat Khanbekov",
      "photoUrl": "",
      "userId": "13863223712125979771"
     },
     "user_tz": -180
    },
    "id": "SGDyPTWYGXu2",
    "outputId": "bdb3cd54-7f6f-44c0-db7e-2008cb24491c"
   },
   "outputs": [
    {
     "data": {
      "text/plain": [
       "6.692381858825684"
      ]
     },
     "execution_count": 13,
     "metadata": {
      "tags": []
     },
     "output_type": "execute_result"
    },
    {
     "data": {
      "text/plain": [
       "6.861055135726929"
      ]
     },
     "execution_count": 33,
     "metadata": {
      "tags": []
     },
     "output_type": "execute_result"
    }
   ],
   "source": [
    "# Info about item cnt\n",
    "ts = time.time()\n",
    "dim = ['date_block_num', 'shop_id', 'item_id']\n",
    "gr = train.groupby(dim).agg({'item_cnt_day': ['min', 'max', 'std']}).round(2)\n",
    "gr.columns = ['item_cnt_month_min', 'item_cnt_month_max', 'item_cnt_month_std']\n",
    "gr.reset_index(inplace=True)\n",
    "df = pd.merge(df, gr, on=dim, how='left')\n",
    "time.time() - ts"
   ]
  },
  {
   "cell_type": "code",
   "execution_count": 0,
   "metadata": {
    "colab": {
     "base_uri": "https://localhost:8080/",
     "height": 34
    },
    "colab_type": "code",
    "executionInfo": {
     "elapsed": 622676,
     "status": "ok",
     "timestamp": 1581945839063,
     "user": {
      "displayName": "Marat Khanbekov",
      "photoUrl": "",
      "userId": "13863223712125979771"
     },
     "user_tz": -180
    },
    "id": "dF2c_JFNGXu6",
    "outputId": "2b38cdb9-13f1-4017-be50-f1915898088a"
   },
   "outputs": [
    {
     "data": {
      "text/plain": [
       "9.131294250488281"
      ]
     },
     "execution_count": 14,
     "metadata": {
      "tags": []
     },
     "output_type": "execute_result"
    },
    {
     "data": {
      "text/plain": [
       "9.816214084625244"
      ]
     },
     "execution_count": 34,
     "metadata": {
      "tags": []
     },
     "output_type": "execute_result"
    }
   ],
   "source": [
    "# In how many shops the item was selling\n",
    "ts = time.time()\n",
    "dim = ['date_block_num', 'item_id']\n",
    "gr = df.groupby(dim + ['shop_id']).size().reset_index()\\\n",
    "    .groupby(dim).size().reset_index(name='shops_month_cnt')\n",
    "gr['shops_month_cnt'] = gr['shops_month_cnt'].astype(np.int32)\n",
    "df = pd.merge(df, gr, on=dim, how='left')\n",
    "time.time() - ts"
   ]
  },
  {
   "cell_type": "code",
   "execution_count": 0,
   "metadata": {
    "colab": {
     "base_uri": "https://localhost:8080/",
     "height": 34
    },
    "colab_type": "code",
    "executionInfo": {
     "elapsed": 631440,
     "status": "ok",
     "timestamp": 1581945847949,
     "user": {
      "displayName": "Marat Khanbekov",
      "photoUrl": "",
      "userId": "13863223712125979771"
     },
     "user_tz": -180
    },
    "id": "VTJ9imGzGXvA",
    "outputId": "54726717-4a77-4293-aca4-4ab6dd8d8748"
   },
   "outputs": [
    {
     "data": {
      "text/plain": [
       "7.329606771469116"
      ]
     },
     "execution_count": 15,
     "metadata": {
      "tags": []
     },
     "output_type": "execute_result"
    },
    {
     "data": {
      "text/plain": [
       "8.75346302986145"
      ]
     },
     "execution_count": 35,
     "metadata": {
      "tags": []
     },
     "output_type": "execute_result"
    }
   ],
   "source": [
    "# How many items were in the shop\n",
    "ts = time.time()\n",
    "dim = ['date_block_num', 'shop_id']\n",
    "gr = df.groupby(dim + ['item_id']).size().reset_index()\\\n",
    "    .groupby(dim).size().reset_index(name='items_in_sh_month_cnt')\n",
    "gr['items_in_sh_month_cnt'] = gr['items_in_sh_month_cnt'].astype(np.int32)\n",
    "df = pd.merge(df, gr, on=dim, how='left')\n",
    "time.time() - ts"
   ]
  },
  {
   "cell_type": "code",
   "execution_count": 0,
   "metadata": {
    "colab": {
     "base_uri": "https://localhost:8080/",
     "height": 34
    },
    "colab_type": "code",
    "executionInfo": {
     "elapsed": 642187,
     "status": "ok",
     "timestamp": 1581945858728,
     "user": {
      "displayName": "Marat Khanbekov",
      "photoUrl": "",
      "userId": "13863223712125979771"
     },
     "user_tz": -180
    },
    "id": "_4pLlP6XGXvH",
    "outputId": "55fdd29d-90a7-42b3-d2dc-930d1aade6e9"
   },
   "outputs": [
    {
     "data": {
      "text/plain": [
       "10.6351957321167"
      ]
     },
     "execution_count": 16,
     "metadata": {
      "tags": []
     },
     "output_type": "execute_result"
    },
    {
     "data": {
      "text/plain": [
       "10.855282306671143"
      ]
     },
     "execution_count": 36,
     "metadata": {
      "tags": []
     },
     "output_type": "execute_result"
    }
   ],
   "source": [
    "# How many items of this type were selling in this shop\n",
    "ts = time.time()\n",
    "dim = ['date_block_num', 'item_id', 'type_code']\n",
    "gr = df.groupby(dim + ['shop_id']).size().reset_index()\\\n",
    "    .groupby(dim).size().reset_index(name='items_type_month_cnt')\n",
    "gr['items_type_month_cnt'] = gr['items_type_month_cnt'].astype(np.int32)\n",
    "df = pd.merge(df, gr, on=dim, how='left')\n",
    "time.time() - ts"
   ]
  },
  {
   "cell_type": "code",
   "execution_count": 0,
   "metadata": {
    "colab": {
     "base_uri": "https://localhost:8080/",
     "height": 34
    },
    "colab_type": "code",
    "executionInfo": {
     "elapsed": 659052,
     "status": "ok",
     "timestamp": 1581945875619,
     "user": {
      "displayName": "Marat Khanbekov",
      "photoUrl": "",
      "userId": "13863223712125979771"
     },
     "user_tz": -180
    },
    "id": "hYp-tc-UGXvR",
    "outputId": "e6ea54f5-a30b-46b2-cba7-d7a638af3ce7"
   },
   "outputs": [
    {
     "data": {
      "text/plain": [
       "17.012718439102173"
      ]
     },
     "execution_count": 17,
     "metadata": {
      "tags": []
     },
     "output_type": "execute_result"
    },
    {
     "data": {
      "text/plain": [
       "16.887547492980957"
      ]
     },
     "execution_count": 37,
     "metadata": {
      "tags": []
     },
     "output_type": "execute_result"
    }
   ],
   "source": [
    "# How many items of this type were selling in this city\n",
    "ts = time.time()\n",
    "dim = ['date_block_num', 'item_id', 'city_code']\n",
    "gr = df.groupby(dim + ['shop_id']).size().reset_index()\\\n",
    "    .groupby(dim).size().reset_index(name='items_city_month_cnt')\n",
    "gr['items_city_month_cnt'] = gr['items_city_month_cnt'].astype(np.int32)\n",
    "df = pd.merge(df, gr, on=dim, how='left')\n",
    "time.time() - ts"
   ]
  },
  {
   "cell_type": "code",
   "execution_count": 0,
   "metadata": {
    "colab": {
     "base_uri": "https://localhost:8080/",
     "height": 34
    },
    "colab_type": "code",
    "executionInfo": {
     "elapsed": 664816,
     "status": "ok",
     "timestamp": 1581945881403,
     "user": {
      "displayName": "Marat Khanbekov",
      "photoUrl": "",
      "userId": "13863223712125979771"
     },
     "user_tz": -180
    },
    "id": "0ABgk-vYGXvc",
    "outputId": "3888ae8c-2e4d-4479-b26f-c0ace6b708ad"
   },
   "outputs": [
    {
     "data": {
      "text/plain": [
       "4.98628830909729"
      ]
     },
     "execution_count": 18,
     "metadata": {
      "tags": []
     },
     "output_type": "execute_result"
    },
    {
     "data": {
      "text/plain": [
       "5.68704080581665"
      ]
     },
     "execution_count": 38,
     "metadata": {
      "tags": []
     },
     "output_type": "execute_result"
    }
   ],
   "source": [
    "# How many days product has been sold\n",
    "ts = time.time()\n",
    "dim = ['date_block_num', 'shop_id', 'item_id']\n",
    "gr = train.groupby(dim).size().reset_index(name='days_with_sales')\n",
    "df = pd.merge(df, gr, on=dim, how='left')\n",
    "time.time() - ts"
   ]
  },
  {
   "cell_type": "code",
   "execution_count": 0,
   "metadata": {
    "colab": {
     "base_uri": "https://localhost:8080/",
     "height": 34
    },
    "colab_type": "code",
    "executionInfo": {
     "elapsed": 667691,
     "status": "ok",
     "timestamp": 1581945884297,
     "user": {
      "displayName": "Marat Khanbekov",
      "photoUrl": "",
      "userId": "13863223712125979771"
     },
     "user_tz": -180
    },
    "id": "JaJNQzmaGXvh",
    "outputId": "cf26faa0-d34b-4747-b3fa-421d725fb68e"
   },
   "outputs": [
    {
     "data": {
      "text/plain": [
       "2.9128267765045166"
      ]
     },
     "execution_count": 19,
     "metadata": {
      "tags": []
     },
     "output_type": "execute_result"
    },
    {
     "data": {
      "text/plain": [
       "3.033938407897949"
      ]
     },
     "execution_count": 39,
     "metadata": {
      "tags": []
     },
     "output_type": "execute_result"
    }
   ],
   "source": [
    "# Count and variance of price\n",
    "ts = time.time()\n",
    "\n",
    "dim = ['date_block_num', 'item_id']\n",
    "\n",
    "gr = train.groupby(['date_block_num', 'item_id', 'item_price'])\\\n",
    "                    .size().reset_index()\\\n",
    "                    .groupby(['date_block_num', 'item_id']).agg({'item_price': {'count', 'std', 'mean'}}).round(2)\n",
    "gr.columns = ['price_cnt', 'price_std', 'price_mean']\n",
    "df = pd.merge(df, gr, on=dim, how='left')\n",
    "time.time() - ts"
   ]
  },
  {
   "cell_type": "markdown",
   "metadata": {
    "colab_type": "text",
    "id": "BHiwgCw0ly6x"
   },
   "source": [
    "### Main Checkpoint"
   ]
  },
  {
   "cell_type": "code",
   "execution_count": 0,
   "metadata": {
    "colab": {
     "base_uri": "https://localhost:8080/",
     "height": 34
    },
    "colab_type": "code",
    "executionInfo": {
     "elapsed": 677623,
     "status": "ok",
     "timestamp": 1581945894254,
     "user": {
      "displayName": "Marat Khanbekov",
      "photoUrl": "",
      "userId": "13863223712125979771"
     },
     "user_tz": -180
    },
    "id": "LQdL1qBiGXvo",
    "outputId": "e5861ac1-7fdd-475b-de43-6aef898a9040"
   },
   "outputs": [
    {
     "data": {
      "text/plain": [
       "9.422922849655151"
      ]
     },
     "execution_count": 20,
     "metadata": {
      "tags": []
     },
     "output_type": "execute_result"
    },
    {
     "data": {
      "text/plain": [
       "9.916898488998413"
      ]
     },
     "execution_count": 40,
     "metadata": {
      "tags": []
     },
     "output_type": "execute_result"
    }
   ],
   "source": [
    "# Write\n",
    "ts = time.time()\n",
    "df.fillna(0, inplace=True)\n",
    "df.to_pickle('output/df_month_base.pkl')\n",
    "time.time() - ts"
   ]
  },
  {
   "cell_type": "code",
   "execution_count": 0,
   "metadata": {
    "colab": {
     "base_uri": "https://localhost:8080/",
     "height": 34
    },
    "colab_type": "code",
    "executionInfo": {
     "elapsed": 9267,
     "status": "ok",
     "timestamp": 1582631142949,
     "user": {
      "displayName": "Marat Khanbekov",
      "photoUrl": "",
      "userId": "13863223712125979771"
     },
     "user_tz": -180
    },
    "id": "15ecV-SSaWQx",
    "outputId": "0d9f892a-32b5-4f4b-f2d3-dd1e614a6586"
   },
   "outputs": [
    {
     "data": {
      "text/plain": [
       "7.862703323364258"
      ]
     },
     "execution_count": 3,
     "metadata": {
      "tags": []
     },
     "output_type": "execute_result"
    }
   ],
   "source": [
    "# Read\n",
    "ts = time.time()\n",
    "df = pd.read_pickle('output/df_month_base.pkl')\n",
    "time.time() - ts"
   ]
  },
  {
   "cell_type": "markdown",
   "metadata": {
    "colab_type": "text",
    "id": "LRpl7VOEmID2"
   },
   "source": [
    "## F1"
   ]
  },
  {
   "cell_type": "code",
   "execution_count": 0,
   "metadata": {
    "colab": {},
    "colab_type": "code",
    "id": "o2OxQQCpmXmt"
   },
   "outputs": [],
   "source": [
    "def time_agg1(df, dm, feature, cols, pref):\n",
    "\n",
    "  df_vars = cols +\\\n",
    "            [feature + pref + '_12m'] +\\\n",
    "            [feature + pref + '_9m'] +\\\n",
    "            [feature + pref + '_6m'] +\\\n",
    "            [feature + pref + '_3m'] +\\\n",
    "            [feature + pref + '_lag_1m'] +\\\n",
    "            [feature + pref + '_lag_2m'] +\\\n",
    "            [feature + pref + '_lag_3m'] +\\\n",
    "            [feature + pref + '_lag_6m'] +\\\n",
    "            [feature + pref + '_lag_9m'] +\\\n",
    "            [feature + pref + '_lag_12m']\n",
    "\n",
    "  df_lags_1 = pd.DataFrame(columns=df_vars)\n",
    "\n",
    "  df_tmp = df.copy()\n",
    "  df_tmp['asofblock'] = dm\n",
    "  df_tmp['delta'] = df_tmp['asofblock'] - df_tmp['date_block_num']\n",
    "  \n",
    "  # Month since last purchase\n",
    "  # df_last = df_tmp[df_tmp['delta']>0].groupby(cols)['date_block_num'].min().reset_index()\n",
    "  # df_last.columns = cols + ['last_purchase_m_1']\n",
    "  \n",
    "  # Lag\n",
    "  df_lag_1 = df_tmp[df_tmp['delta']==1]\\\n",
    "      .groupby(cols, as_index=False)[feature].mean().round(2)\n",
    "  df_lag_2 = df_tmp[df_tmp['delta']==2]\\\n",
    "      .groupby(cols, as_index=False)[feature].mean().round(2)\n",
    "  df_lag_3 = df_tmp[df_tmp['delta']==3]\\\n",
    "      .groupby(cols, as_index=False)[feature].mean().round(2)\n",
    "  df_lag_6 = df_tmp[df_tmp['delta']==6]\\\n",
    "      .groupby(cols, as_index=False)[feature].mean().round(2)\n",
    "  df_lag_9 = df_tmp[df_tmp['delta']==9]\\\n",
    "      .groupby(cols, as_index=False)[feature].mean().round(2)\n",
    "  df_lag_12 = df_tmp[df_tmp['delta']==12]\\\n",
    "      .groupby(cols, as_index=False)[feature].mean().round(2)\n",
    "  \n",
    "  # Mean\n",
    "  df_avg_3 = df_tmp[df_tmp['delta'].isin([1, 2, 3])]\\\n",
    "      .groupby(cols, as_index=False)[feature].mean().round(2)\n",
    "  df_avg_6 = df_tmp[df_tmp['delta'].isin([1, 2, 3, 4, 5, 6])]\\\n",
    "      .groupby(cols, as_index=False)[feature].mean().round(2)\n",
    "  df_avg_9 = df_tmp[df_tmp['delta'].isin([1, 2, 3, 4, 5, 6, 7, 8, 9])]\\\n",
    "      .groupby(cols, as_index=False)[feature].mean().round(2)\n",
    "  df_avg_12 = df_tmp[df_tmp['delta'].isin([1, 2, 3, 4, 5, 6, 7, 8, 9, 10, 11, 12])]\\\n",
    "      .groupby(cols, as_index=False)[feature].mean().round(2)\n",
    "\n",
    "\n",
    "  df_lag_1[feature] = df_lag_1[feature].astype(np.float16)\n",
    "  df_lag_2[feature] = df_lag_2[feature].astype(np.float16)\n",
    "  df_lag_3[feature] = df_lag_3[feature].astype(np.float16)\n",
    "  df_lag_6[feature] = df_lag_6[feature].astype(np.float16)\n",
    "  df_lag_9[feature] = df_lag_9[feature].astype(np.float16)\n",
    "  df_lag_12[feature] = df_lag_12[feature].astype(np.float16)\n",
    "\n",
    "  df_avg_3[feature] = df_avg_3[feature].astype(np.float16)\n",
    "  df_avg_6[feature] = df_avg_6[feature].astype(np.float16)\n",
    "  df_avg_9[feature] = df_avg_9[feature].astype(np.float16)\n",
    "  df_avg_12[feature] = df_avg_12[feature].astype(np.float16)\n",
    "\n",
    "\n",
    "  df_lag_1.columns = cols + [feature + pref + '_lag_1m']\n",
    "  df_lag_2.columns = cols + [feature + pref + '_lag_2m']\n",
    "  df_lag_3.columns = cols + [feature + pref + '_lag_3m']\n",
    "  df_lag_6.columns = cols + [feature + pref + '_lag_6m']\n",
    "  df_lag_9.columns = cols + [feature + pref + '_lag_9m']\n",
    "  df_lag_12.columns = cols + [feature + pref + '_lag_12m']\n",
    "\n",
    "  df_avg_3.columns = cols + [feature + pref + '_3m']\n",
    "  df_avg_6.columns = cols + [feature + pref + '_6m']\n",
    "  df_avg_9.columns = cols + [feature + pref + '_9m']\n",
    "  df_avg_12.columns = cols + [feature + pref + '_12m']\n",
    "\n",
    "  dfs = [\n",
    "    df_avg_12, \n",
    "    df_avg_9,\n",
    "    df_avg_6,\n",
    "    df_avg_3,\n",
    "      \n",
    "    df_lag_1,\n",
    "    df_lag_2,\n",
    "    df_lag_3,\n",
    "\n",
    "    df_lag_6,\n",
    "    df_lag_9,\n",
    "    df_lag_12\n",
    "    # ,df_last\n",
    "  ]\n",
    "  \n",
    "  dff = reduce(lambda left, right: pd.merge(left, right, on=cols, how='left'), dfs)\n",
    "  return dff\n",
    "\n",
    "from sklearn.preprocessing import StandardScaler\n",
    "from sklearn.decomposition import PCA\n",
    "\n",
    "def get_pc(df, n, feature, prefix):\n",
    "  scl = StandardScaler()\n",
    "  x = scl.fit_transform(df)\n",
    "\n",
    "  pca = PCA(n_components = n)\n",
    "  pcomponents = pca.fit_transform(x)\n",
    "\n",
    "  print(sum(pca.explained_variance_ratio_))\n",
    "  # return pcomponents\n",
    "  return pd.DataFrame(data=pcomponents, columns=['pc_' + prefix + feature + str(x) for x in range(1, n+1)], index=None)"
   ]
  },
  {
   "cell_type": "markdown",
   "metadata": {
    "colab_type": "text",
    "id": "_Qb5k-PMUnTE"
   },
   "source": [
    "### D1"
   ]
  },
  {
   "cell_type": "code",
   "execution_count": 0,
   "metadata": {
    "colab": {},
    "colab_type": "code",
    "id": "PubOTrCN9aER"
   },
   "outputs": [],
   "source": [
    "df = df[df['date_block_num']>=12]\n",
    "\n",
    "dms = df['date_block_num'].unique()\n",
    "dms.sort()\n",
    "\n",
    "cols = ['asofblock', 'shop_id', 'item_id']\n",
    "features = [\n",
    "            'item_cnt_month', \n",
    "              'shops_month_cnt', \n",
    "              'items_in_sh_month_cnt', \n",
    "              'items_type_month_cnt', \n",
    "              'items_city_month_cnt',\n",
    "              'days_with_sales',\n",
    "              'price_cnt',\n",
    "              'price_std',\n",
    "              'price_mean'\n",
    "              ]"
   ]
  },
  {
   "cell_type": "code",
   "execution_count": 0,
   "metadata": {
    "colab": {
     "base_uri": "https://localhost:8080/",
     "height": 1000
    },
    "colab_type": "code",
    "executionInfo": {
     "elapsed": 1463598,
     "status": "ok",
     "timestamp": 1582577194288,
     "user": {
      "displayName": "Marat Khanbekov",
      "photoUrl": "",
      "userId": "13863223712125979771"
     },
     "user_tz": -180
    },
    "id": "0ivsd0qbmvmH",
    "outputId": "9bed54c7-af79-4765-b1fa-35f4e3013c0a"
   },
   "outputs": [
    {
     "name": "stderr",
     "output_type": "stream",
     "text": [
      "\n",
      "  0%|          | 0/23 [00:00<?, ?it/s]\u001b[A"
     ]
    },
    {
     "name": "stdout",
     "output_type": "stream",
     "text": [
      "item_cnt_month started\n"
     ]
    },
    {
     "name": "stderr",
     "output_type": "stream",
     "text": [
      "\n",
      "  4%|▍         | 1/23 [00:00<00:20,  1.07it/s]\u001b[A\n",
      "  9%|▊         | 2/23 [00:03<00:30,  1.45s/it]\u001b[A\n",
      " 13%|█▎        | 3/23 [00:07<00:41,  2.06s/it]\u001b[A\n",
      " 17%|█▋        | 4/23 [00:11<00:51,  2.70s/it]\u001b[A\n",
      " 22%|██▏       | 5/23 [00:15<00:58,  3.24s/it]\u001b[A\n",
      " 26%|██▌       | 6/23 [00:20<01:02,  3.70s/it]\u001b[A\n",
      " 30%|███       | 7/23 [00:26<01:07,  4.24s/it]\u001b[A\n",
      " 35%|███▍      | 8/23 [00:31<01:09,  4.63s/it]\u001b[A\n",
      " 39%|███▉      | 9/23 [00:37<01:09,  4.99s/it]\u001b[A\n",
      " 43%|████▎     | 10/23 [00:43<01:10,  5.41s/it]\u001b[A\n",
      " 48%|████▊     | 11/23 [00:50<01:08,  5.73s/it]\u001b[A\n",
      " 52%|█████▏    | 12/23 [00:56<01:05,  5.99s/it]\u001b[A\n",
      " 57%|█████▋    | 13/23 [01:03<01:03,  6.32s/it]\u001b[A\n",
      " 61%|██████    | 14/23 [01:10<00:58,  6.50s/it]\u001b[A\n",
      " 65%|██████▌   | 15/23 [01:17<00:53,  6.65s/it]\u001b[A\n",
      " 70%|██████▉   | 16/23 [01:24<00:46,  6.71s/it]\u001b[A\n",
      " 74%|███████▍  | 17/23 [01:31<00:40,  6.83s/it]\u001b[A\n",
      " 78%|███████▊  | 18/23 [01:38<00:34,  6.81s/it]\u001b[A\n",
      " 83%|████████▎ | 19/23 [01:45<00:26,  6.72s/it]\u001b[A\n",
      " 87%|████████▋ | 20/23 [01:51<00:19,  6.60s/it]\u001b[A\n",
      " 91%|█████████▏| 21/23 [01:57<00:12,  6.46s/it]\u001b[A\n",
      " 96%|█████████▌| 22/23 [02:03<00:06,  6.38s/it]\u001b[A\n",
      "100%|██████████| 23/23 [02:09<00:00,  6.33s/it]\u001b[A\n",
      "\u001b[A"
     ]
    },
    {
     "name": "stdout",
     "output_type": "stream",
     "text": [
      "0.801990022507162\n"
     ]
    },
    {
     "name": "stderr",
     "output_type": "stream",
     "text": [
      "\n",
      "  0%|          | 0/23 [00:00<?, ?it/s]\u001b[A"
     ]
    },
    {
     "name": "stdout",
     "output_type": "stream",
     "text": [
      "shops_month_cnt started\n"
     ]
    },
    {
     "name": "stderr",
     "output_type": "stream",
     "text": [
      "\n",
      "  4%|▍         | 1/23 [00:00<00:19,  1.11it/s]\u001b[A\n",
      "  9%|▊         | 2/23 [00:03<00:29,  1.40s/it]\u001b[A\n",
      " 13%|█▎        | 3/23 [00:06<00:40,  2.01s/it]\u001b[A\n",
      " 17%|█▋        | 4/23 [00:11<00:50,  2.67s/it]\u001b[A\n",
      " 22%|██▏       | 5/23 [00:15<00:57,  3.21s/it]\u001b[A\n",
      " 26%|██▌       | 6/23 [00:20<01:02,  3.68s/it]\u001b[A\n",
      " 30%|███       | 7/23 [00:25<01:07,  4.20s/it]\u001b[A\n",
      " 35%|███▍      | 8/23 [00:31<01:09,  4.61s/it]\u001b[A\n",
      " 39%|███▉      | 9/23 [00:37<01:09,  4.94s/it]\u001b[A\n",
      " 43%|████▎     | 10/23 [00:43<01:09,  5.35s/it]\u001b[A\n",
      " 48%|████▊     | 11/23 [00:49<01:07,  5.62s/it]\u001b[A\n",
      " 52%|█████▏    | 12/23 [00:56<01:04,  5.90s/it]\u001b[A\n",
      " 57%|█████▋    | 13/23 [01:03<01:02,  6.25s/it]\u001b[A\n",
      " 61%|██████    | 14/23 [01:10<00:57,  6.42s/it]\u001b[A\n",
      " 65%|██████▌   | 15/23 [01:16<00:52,  6.53s/it]\u001b[A\n",
      " 70%|██████▉   | 16/23 [01:23<00:46,  6.64s/it]\u001b[A\n",
      " 74%|███████▍  | 17/23 [01:30<00:39,  6.64s/it]\u001b[A\n",
      " 78%|███████▊  | 18/23 [01:37<00:33,  6.66s/it]\u001b[A\n",
      " 83%|████████▎ | 19/23 [01:43<00:26,  6.68s/it]\u001b[A\n",
      " 87%|████████▋ | 20/23 [01:50<00:19,  6.64s/it]\u001b[A\n",
      " 91%|█████████▏| 21/23 [01:56<00:13,  6.61s/it]\u001b[A\n",
      " 96%|█████████▌| 22/23 [02:03<00:06,  6.57s/it]\u001b[A\n",
      "100%|██████████| 23/23 [02:09<00:00,  6.55s/it]\u001b[A\n",
      "\u001b[A"
     ]
    },
    {
     "name": "stdout",
     "output_type": "stream",
     "text": [
      "0.6640553503308076\n"
     ]
    },
    {
     "name": "stderr",
     "output_type": "stream",
     "text": [
      "\n",
      "  0%|          | 0/23 [00:00<?, ?it/s]\u001b[A"
     ]
    },
    {
     "name": "stdout",
     "output_type": "stream",
     "text": [
      "items_in_sh_month_cnt started\n"
     ]
    },
    {
     "name": "stderr",
     "output_type": "stream",
     "text": [
      "\n",
      "  4%|▍         | 1/23 [00:01<00:26,  1.20s/it]\u001b[A\n",
      "  9%|▊         | 2/23 [00:03<00:34,  1.63s/it]\u001b[A\n",
      " 13%|█▎        | 3/23 [00:07<00:43,  2.18s/it]\u001b[A\n",
      " 17%|█▋        | 4/23 [00:11<00:53,  2.80s/it]\u001b[A\n",
      " 22%|██▏       | 5/23 [00:16<00:59,  3.30s/it]\u001b[A\n",
      " 26%|██▌       | 6/23 [00:20<01:04,  3.78s/it]\u001b[A\n",
      " 30%|███       | 7/23 [00:26<01:08,  4.28s/it]\u001b[A\n",
      " 35%|███▍      | 8/23 [00:31<01:10,  4.67s/it]\u001b[A\n",
      " 39%|███▉      | 9/23 [00:37<01:10,  5.04s/it]\u001b[A\n",
      " 43%|████▎     | 10/23 [00:44<01:10,  5.40s/it]\u001b[A\n",
      " 48%|████▊     | 11/23 [00:50<01:08,  5.72s/it]\u001b[A\n",
      " 52%|█████▏    | 12/23 [00:57<01:06,  6.03s/it]\u001b[A\n",
      " 57%|█████▋    | 13/23 [01:04<01:03,  6.38s/it]\u001b[A\n",
      " 61%|██████    | 14/23 [01:11<00:59,  6.61s/it]\u001b[A\n",
      " 65%|██████▌   | 15/23 [01:18<00:54,  6.78s/it]\u001b[A\n",
      " 70%|██████▉   | 16/23 [01:25<00:48,  6.87s/it]\u001b[A\n",
      " 74%|███████▍  | 17/23 [01:32<00:41,  6.92s/it]\u001b[A\n",
      " 78%|███████▊  | 18/23 [01:39<00:34,  6.88s/it]\u001b[A\n",
      " 83%|████████▎ | 19/23 [01:46<00:27,  6.87s/it]\u001b[A\n",
      " 87%|████████▋ | 20/23 [01:53<00:20,  6.76s/it]\u001b[A\n",
      " 91%|█████████▏| 21/23 [01:59<00:13,  6.70s/it]\u001b[A\n",
      " 96%|█████████▌| 22/23 [02:06<00:06,  6.64s/it]\u001b[A\n",
      "100%|██████████| 23/23 [02:12<00:00,  6.63s/it]\u001b[A\n",
      "\u001b[A"
     ]
    },
    {
     "name": "stdout",
     "output_type": "stream",
     "text": [
      "0.6686320079594956\n"
     ]
    },
    {
     "name": "stderr",
     "output_type": "stream",
     "text": [
      "\n",
      "  0%|          | 0/23 [00:00<?, ?it/s]\u001b[A"
     ]
    },
    {
     "name": "stdout",
     "output_type": "stream",
     "text": [
      "items_type_month_cnt started\n"
     ]
    },
    {
     "name": "stderr",
     "output_type": "stream",
     "text": [
      "\n",
      "  4%|▍         | 1/23 [00:00<00:20,  1.08it/s]\u001b[A\n",
      "  9%|▊         | 2/23 [00:03<00:30,  1.44s/it]\u001b[A\n",
      " 13%|█▎        | 3/23 [00:07<00:40,  2.05s/it]\u001b[A\n",
      " 17%|█▋        | 4/23 [00:11<00:51,  2.70s/it]\u001b[A\n",
      " 22%|██▏       | 5/23 [00:15<00:58,  3.27s/it]\u001b[A\n",
      " 26%|██▌       | 6/23 [00:20<01:04,  3.80s/it]\u001b[A\n",
      " 30%|███       | 7/23 [00:26<01:09,  4.33s/it]\u001b[A\n",
      " 35%|███▍      | 8/23 [00:32<01:11,  4.78s/it]\u001b[A\n",
      " 39%|███▉      | 9/23 [00:38<01:11,  5.10s/it]\u001b[A\n",
      " 43%|████▎     | 10/23 [00:44<01:10,  5.45s/it]\u001b[A\n",
      " 48%|████▊     | 11/23 [00:50<01:09,  5.78s/it]\u001b[A\n",
      " 52%|█████▏    | 12/23 [00:57<01:06,  6.09s/it]\u001b[A\n",
      " 57%|█████▋    | 13/23 [01:04<01:03,  6.36s/it]\u001b[A\n",
      " 61%|██████    | 14/23 [01:11<00:59,  6.60s/it]\u001b[A\n",
      " 65%|██████▌   | 15/23 [01:18<00:53,  6.71s/it]\u001b[A\n",
      " 70%|██████▉   | 16/23 [01:26<00:47,  6.84s/it]\u001b[A\n",
      " 74%|███████▍  | 17/23 [01:33<00:41,  6.89s/it]\u001b[A\n",
      " 78%|███████▊  | 18/23 [01:39<00:34,  6.89s/it]\u001b[A\n",
      " 83%|████████▎ | 19/23 [01:46<00:27,  6.85s/it]\u001b[A\n",
      " 87%|████████▋ | 20/23 [01:53<00:20,  6.80s/it]\u001b[A\n",
      " 91%|█████████▏| 21/23 [01:59<00:13,  6.74s/it]\u001b[A\n",
      " 96%|█████████▌| 22/23 [02:06<00:06,  6.70s/it]\u001b[A\n",
      "100%|██████████| 23/23 [02:13<00:00,  6.64s/it]\u001b[A\n",
      "\u001b[A"
     ]
    },
    {
     "name": "stdout",
     "output_type": "stream",
     "text": [
      "0.6640553503308011\n"
     ]
    },
    {
     "name": "stderr",
     "output_type": "stream",
     "text": [
      "\n",
      "  0%|          | 0/23 [00:00<?, ?it/s]\u001b[A"
     ]
    },
    {
     "name": "stdout",
     "output_type": "stream",
     "text": [
      "items_city_month_cnt started\n"
     ]
    },
    {
     "name": "stderr",
     "output_type": "stream",
     "text": [
      "\n",
      "  4%|▍         | 1/23 [00:00<00:19,  1.14it/s]\u001b[A\n",
      "  9%|▊         | 2/23 [00:03<00:29,  1.40s/it]\u001b[A\n",
      " 13%|█▎        | 3/23 [00:06<00:39,  1.99s/it]\u001b[A\n",
      " 17%|█▋        | 4/23 [00:11<00:50,  2.66s/it]\u001b[A\n",
      " 22%|██▏       | 5/23 [00:15<00:57,  3.19s/it]\u001b[A\n",
      " 26%|██▌       | 6/23 [00:20<01:02,  3.69s/it]\u001b[A\n",
      " 30%|███       | 7/23 [00:25<01:06,  4.16s/it]\u001b[A\n",
      " 35%|███▍      | 8/23 [00:31<01:08,  4.59s/it]\u001b[A\n",
      " 39%|███▉      | 9/23 [00:37<01:09,  4.96s/it]\u001b[A\n",
      " 43%|████▎     | 10/23 [00:43<01:09,  5.33s/it]\u001b[A\n",
      " 48%|████▊     | 11/23 [00:49<01:07,  5.66s/it]\u001b[A\n",
      " 52%|█████▏    | 12/23 [00:56<01:05,  5.94s/it]\u001b[A\n",
      " 57%|█████▋    | 13/23 [01:03<01:03,  6.31s/it]\u001b[A\n",
      " 61%|██████    | 14/23 [01:10<00:59,  6.60s/it]\u001b[A\n",
      " 65%|██████▌   | 15/23 [01:17<00:53,  6.72s/it]\u001b[A\n",
      " 70%|██████▉   | 16/23 [01:24<00:47,  6.81s/it]\u001b[A\n",
      " 74%|███████▍  | 17/23 [01:31<00:41,  6.85s/it]\u001b[A\n",
      " 78%|███████▊  | 18/23 [01:38<00:34,  6.81s/it]\u001b[A\n",
      " 83%|████████▎ | 19/23 [01:45<00:27,  6.78s/it]\u001b[A\n",
      " 87%|████████▋ | 20/23 [01:51<00:20,  6.73s/it]\u001b[A\n",
      " 91%|█████████▏| 21/23 [01:58<00:13,  6.66s/it]\u001b[A\n",
      " 96%|█████████▌| 22/23 [02:04<00:06,  6.64s/it]\u001b[A\n",
      "100%|██████████| 23/23 [02:11<00:00,  6.60s/it]\u001b[A\n",
      "\u001b[A"
     ]
    },
    {
     "name": "stdout",
     "output_type": "stream",
     "text": [
      "0.8134303567760267\n"
     ]
    },
    {
     "name": "stderr",
     "output_type": "stream",
     "text": [
      "\n",
      "  0%|          | 0/23 [00:00<?, ?it/s]\u001b[A"
     ]
    },
    {
     "name": "stdout",
     "output_type": "stream",
     "text": [
      "days_with_sales started\n"
     ]
    },
    {
     "name": "stderr",
     "output_type": "stream",
     "text": [
      "\n",
      "  4%|▍         | 1/23 [00:00<00:20,  1.07it/s]\u001b[A\n",
      "  9%|▊         | 2/23 [00:03<00:30,  1.46s/it]\u001b[A\n",
      " 13%|█▎        | 3/23 [00:07<00:41,  2.08s/it]\u001b[A\n",
      " 17%|█▋        | 4/23 [00:11<00:51,  2.71s/it]\u001b[A\n",
      " 22%|██▏       | 5/23 [00:15<00:59,  3.28s/it]\u001b[A\n",
      " 26%|██▌       | 6/23 [00:21<01:04,  3.82s/it]\u001b[A\n",
      " 30%|███       | 7/23 [00:26<01:09,  4.32s/it]\u001b[A\n",
      " 35%|███▍      | 8/23 [00:31<01:09,  4.66s/it]\u001b[A\n",
      " 39%|███▉      | 9/23 [00:37<01:10,  5.04s/it]\u001b[A\n",
      " 43%|████▎     | 10/23 [00:44<01:10,  5.43s/it]\u001b[A\n",
      " 48%|████▊     | 11/23 [00:50<01:09,  5.77s/it]\u001b[A\n",
      " 52%|█████▏    | 12/23 [00:57<01:06,  6.05s/it]\u001b[A\n",
      " 57%|█████▋    | 13/23 [01:04<01:04,  6.41s/it]\u001b[A\n",
      " 61%|██████    | 14/23 [01:11<00:59,  6.63s/it]\u001b[A\n",
      " 65%|██████▌   | 15/23 [01:19<00:54,  6.78s/it]\u001b[A\n",
      " 70%|██████▉   | 16/23 [01:26<00:48,  6.87s/it]\u001b[A\n",
      " 74%|███████▍  | 17/23 [01:33<00:41,  6.89s/it]\u001b[A\n",
      " 78%|███████▊  | 18/23 [01:40<00:34,  6.92s/it]\u001b[A\n",
      " 83%|████████▎ | 19/23 [01:46<00:27,  6.89s/it]\u001b[A\n",
      " 87%|████████▋ | 20/23 [01:53<00:20,  6.85s/it]\u001b[A\n",
      " 91%|█████████▏| 21/23 [02:00<00:13,  6.77s/it]\u001b[A\n",
      " 96%|█████████▌| 22/23 [02:06<00:06,  6.73s/it]\u001b[A\n",
      "100%|██████████| 23/23 [02:13<00:00,  6.66s/it]\u001b[A\n",
      "\u001b[A"
     ]
    },
    {
     "name": "stdout",
     "output_type": "stream",
     "text": [
      "0.8251324877064037\n"
     ]
    },
    {
     "name": "stderr",
     "output_type": "stream",
     "text": [
      "\n",
      "  0%|          | 0/23 [00:00<?, ?it/s]\u001b[A"
     ]
    },
    {
     "name": "stdout",
     "output_type": "stream",
     "text": [
      "price_cnt started\n"
     ]
    },
    {
     "name": "stderr",
     "output_type": "stream",
     "text": [
      "\n",
      "  4%|▍         | 1/23 [00:00<00:20,  1.07it/s]\u001b[A\n",
      "  9%|▊         | 2/23 [00:03<00:30,  1.46s/it]\u001b[A\n",
      " 13%|█▎        | 3/23 [00:07<00:41,  2.07s/it]\u001b[A\n",
      " 17%|█▋        | 4/23 [00:11<00:52,  2.75s/it]\u001b[A\n",
      " 22%|██▏       | 5/23 [00:15<00:58,  3.27s/it]\u001b[A\n",
      " 26%|██▌       | 6/23 [00:20<01:04,  3.77s/it]\u001b[A\n",
      " 30%|███       | 7/23 [00:26<01:08,  4.29s/it]\u001b[A\n",
      " 35%|███▍      | 8/23 [00:32<01:10,  4.70s/it]\u001b[A\n",
      " 39%|███▉      | 9/23 [00:37<01:11,  5.08s/it]\u001b[A\n",
      " 43%|████▎     | 10/23 [00:44<01:11,  5.49s/it]\u001b[A\n",
      " 48%|████▊     | 11/23 [00:51<01:10,  5.84s/it]\u001b[A\n",
      " 52%|█████▏    | 12/23 [00:58<01:07,  6.17s/it]\u001b[A\n",
      " 57%|█████▋    | 13/23 [01:05<01:05,  6.50s/it]\u001b[A\n",
      " 61%|██████    | 14/23 [01:12<01:00,  6.71s/it]\u001b[A\n",
      " 65%|██████▌   | 15/23 [01:19<00:54,  6.85s/it]\u001b[A\n",
      " 70%|██████▉   | 16/23 [01:29<00:53,  7.70s/it]\u001b[A\n",
      " 74%|███████▍  | 17/23 [01:37<00:46,  7.71s/it]\u001b[A\n",
      " 78%|███████▊  | 18/23 [01:44<00:37,  7.52s/it]\u001b[A\n",
      " 83%|████████▎ | 19/23 [01:51<00:29,  7.35s/it]\u001b[A\n",
      " 87%|████████▋ | 20/23 [01:58<00:21,  7.22s/it]\u001b[A\n",
      " 91%|█████████▏| 21/23 [02:04<00:14,  7.07s/it]\u001b[A\n",
      " 96%|█████████▌| 22/23 [02:11<00:06,  6.97s/it]\u001b[A\n",
      "100%|██████████| 23/23 [02:18<00:00,  6.91s/it]\u001b[A\n",
      "\u001b[A"
     ]
    },
    {
     "name": "stdout",
     "output_type": "stream",
     "text": [
      "0.7742480838027975\n"
     ]
    },
    {
     "name": "stderr",
     "output_type": "stream",
     "text": [
      "\n",
      "  0%|          | 0/23 [00:00<?, ?it/s]\u001b[A"
     ]
    },
    {
     "name": "stdout",
     "output_type": "stream",
     "text": [
      "price_std started\n"
     ]
    },
    {
     "name": "stderr",
     "output_type": "stream",
     "text": [
      "\n",
      "  4%|▍         | 1/23 [00:00<00:20,  1.08it/s]\u001b[A\n",
      "  9%|▊         | 2/23 [00:03<00:30,  1.44s/it]\u001b[A\n",
      " 13%|█▎        | 3/23 [00:07<00:41,  2.06s/it]\u001b[A\n",
      " 17%|█▋        | 4/23 [00:11<00:51,  2.72s/it]\u001b[A\n",
      " 22%|██▏       | 5/23 [00:15<00:58,  3.24s/it]\u001b[A\n",
      " 26%|██▌       | 6/23 [00:20<01:03,  3.73s/it]\u001b[A\n",
      " 30%|███       | 7/23 [00:26<01:07,  4.22s/it]\u001b[A\n",
      " 35%|███▍      | 8/23 [00:31<01:09,  4.63s/it]\u001b[A\n",
      " 39%|███▉      | 9/23 [00:37<01:09,  4.99s/it]\u001b[A\n",
      " 43%|████▎     | 10/23 [00:43<01:09,  5.38s/it]\u001b[A\n",
      " 48%|████▊     | 11/23 [00:50<01:08,  5.74s/it]\u001b[A\n",
      " 52%|█████▏    | 12/23 [00:56<01:06,  6.02s/it]\u001b[A\n",
      " 57%|█████▋    | 13/23 [01:04<01:03,  6.37s/it]\u001b[A\n",
      " 61%|██████    | 14/23 [01:11<00:59,  6.62s/it]\u001b[A\n",
      " 65%|██████▌   | 15/23 [01:18<00:54,  6.77s/it]\u001b[A\n",
      " 70%|██████▉   | 16/23 [01:25<00:47,  6.85s/it]\u001b[A\n",
      " 74%|███████▍  | 17/23 [01:32<00:41,  6.89s/it]\u001b[A\n",
      " 78%|███████▊  | 18/23 [01:39<00:34,  6.93s/it]\u001b[A\n",
      " 83%|████████▎ | 19/23 [01:46<00:27,  6.93s/it]\u001b[A\n",
      " 87%|████████▋ | 20/23 [01:53<00:20,  6.87s/it]\u001b[A\n",
      " 91%|█████████▏| 21/23 [01:59<00:13,  6.84s/it]\u001b[A\n",
      " 96%|█████████▌| 22/23 [02:06<00:06,  6.77s/it]\u001b[A\n",
      "100%|██████████| 23/23 [02:13<00:00,  6.69s/it]\u001b[A\n",
      "\u001b[A"
     ]
    },
    {
     "name": "stdout",
     "output_type": "stream",
     "text": [
      "0.8091241129866559\n"
     ]
    },
    {
     "name": "stderr",
     "output_type": "stream",
     "text": [
      "\n",
      "  0%|          | 0/23 [00:00<?, ?it/s]\u001b[A"
     ]
    },
    {
     "name": "stdout",
     "output_type": "stream",
     "text": [
      "price_mean started\n"
     ]
    },
    {
     "name": "stderr",
     "output_type": "stream",
     "text": [
      "\n",
      "  4%|▍         | 1/23 [00:00<00:21,  1.02it/s]\u001b[A\n",
      "  9%|▊         | 2/23 [00:03<00:31,  1.49s/it]\u001b[A\n",
      " 13%|█▎        | 3/23 [00:07<00:41,  2.08s/it]\u001b[A\n",
      " 17%|█▋        | 4/23 [00:11<00:51,  2.71s/it]\u001b[A\n",
      " 22%|██▏       | 5/23 [00:15<00:58,  3.25s/it]\u001b[A\n",
      " 26%|██▌       | 6/23 [00:20<01:03,  3.73s/it]\u001b[A\n",
      " 30%|███       | 7/23 [00:26<01:07,  4.24s/it]\u001b[A\n",
      " 35%|███▍      | 8/23 [00:31<01:09,  4.65s/it]\u001b[A\n",
      " 39%|███▉      | 9/23 [00:37<01:11,  5.08s/it]\u001b[A\n",
      " 43%|████▎     | 10/23 [00:44<01:11,  5.48s/it]\u001b[A\n",
      " 48%|████▊     | 11/23 [00:50<01:09,  5.83s/it]\u001b[A\n",
      " 52%|█████▏    | 12/23 [00:57<01:07,  6.11s/it]\u001b[A\n",
      " 57%|█████▋    | 13/23 [01:04<01:04,  6.44s/it]\u001b[A\n",
      " 61%|██████    | 14/23 [01:12<00:59,  6.66s/it]\u001b[A\n",
      " 65%|██████▌   | 15/23 [01:19<00:54,  6.76s/it]\u001b[A\n",
      " 70%|██████▉   | 16/23 [01:26<00:47,  6.84s/it]\u001b[A\n",
      " 74%|███████▍  | 17/23 [01:33<00:41,  6.91s/it]\u001b[A\n",
      " 78%|███████▊  | 18/23 [01:39<00:34,  6.90s/it]\u001b[A\n",
      " 83%|████████▎ | 19/23 [01:46<00:27,  6.85s/it]\u001b[A\n",
      " 87%|████████▋ | 20/23 [01:53<00:20,  6.81s/it]\u001b[A\n",
      " 91%|█████████▏| 21/23 [02:00<00:13,  6.77s/it]\u001b[A\n",
      " 96%|█████████▌| 22/23 [02:06<00:06,  6.73s/it]\u001b[A\n",
      "100%|██████████| 23/23 [02:13<00:00,  6.71s/it]\u001b[A\n",
      "\u001b[A"
     ]
    },
    {
     "name": "stdout",
     "output_type": "stream",
     "text": [
      "0.8661918390504353\n"
     ]
    }
   ],
   "source": [
    "for feature in features:\n",
    "  print(feature, 'started')\n",
    "  for dm in tqdm(dms): \n",
    "    df_tmp1 = time_agg1(df, dm, feature, cols=cols, pref='_1')\n",
    "\n",
    "    if dm == 12:\n",
    "      df_total = df_tmp1\n",
    "    else:\n",
    "      df_total = df_total.append(df_tmp1, sort=False, ignore_index=True)\n",
    "\n",
    "  df_total.fillna(0, inplace=True)\n",
    "  X_cols = [x for x in df_total.columns if x not in cols + ['item_cnt_month'] +  ['date_block_num']]\n",
    "  pc = get_pc(df_total[X_cols], n=3, feature=feature, prefix='1_')\n",
    "  df_out = pd.concat([df_total[cols].astype(np.int16), pc.astype(np.float16)], axis=1)\n",
    "  df_out.to_pickle('output/pc_'+feature+'.pkl')"
   ]
  },
  {
   "cell_type": "markdown",
   "metadata": {
    "colab_type": "text",
    "id": "y612-hayUtpe"
   },
   "source": [
    "### D2"
   ]
  },
  {
   "cell_type": "code",
   "execution_count": 0,
   "metadata": {
    "colab": {},
    "colab_type": "code",
    "id": "wlm-pFCgn2pc"
   },
   "outputs": [],
   "source": [
    "df = df[df['date_block_num']>=12]\n",
    "\n",
    "dms = df['date_block_num'].unique()\n",
    "dms.sort()\n",
    "\n",
    "cols = ['asofblock', 'shop_id', 'city_code', 'type_code', 'item_id']\n",
    "features = [\n",
    "            'item_cnt_month', \n",
    "              'shops_month_cnt', \n",
    "              'items_in_sh_month_cnt', \n",
    "              'items_type_month_cnt', \n",
    "              'items_city_month_cnt',\n",
    "              'days_with_sales',\n",
    "              'price_cnt',\n",
    "              'price_std',\n",
    "              'price_mean'\n",
    "              ]"
   ]
  },
  {
   "cell_type": "code",
   "execution_count": 0,
   "metadata": {
    "colab": {
     "base_uri": "https://localhost:8080/",
     "height": 476
    },
    "colab_type": "code",
    "executionInfo": {
     "elapsed": 1900798,
     "status": "ok",
     "timestamp": 1582616617876,
     "user": {
      "displayName": "Marat Khanbekov",
      "photoUrl": "",
      "userId": "13863223712125979771"
     },
     "user_tz": -180
    },
    "id": "79F5Fq5NPPZK",
    "outputId": "441d8649-b4ba-4444-d8c6-9d2a7b120ee9"
   },
   "outputs": [
    {
     "name": "stderr",
     "output_type": "stream",
     "text": [
      "\r",
      "  0%|          | 0/23 [00:00<?, ?it/s]"
     ]
    },
    {
     "name": "stdout",
     "output_type": "stream",
     "text": [
      "item_cnt_month started\n"
     ]
    },
    {
     "name": "stderr",
     "output_type": "stream",
     "text": [
      "100%|██████████| 23/23 [02:56<00:00,  8.48s/it]\n"
     ]
    },
    {
     "name": "stdout",
     "output_type": "stream",
     "text": [
      "0.8019900225071595\n"
     ]
    },
    {
     "name": "stderr",
     "output_type": "stream",
     "text": [
      "\r",
      "  0%|          | 0/23 [00:00<?, ?it/s]"
     ]
    },
    {
     "name": "stdout",
     "output_type": "stream",
     "text": [
      "shops_month_cnt started\n"
     ]
    },
    {
     "name": "stderr",
     "output_type": "stream",
     "text": [
      "100%|██████████| 23/23 [02:58<00:00,  8.68s/it]\n"
     ]
    },
    {
     "name": "stdout",
     "output_type": "stream",
     "text": [
      "0.6640553503308065\n"
     ]
    },
    {
     "name": "stderr",
     "output_type": "stream",
     "text": [
      "\r",
      "  0%|          | 0/23 [00:00<?, ?it/s]"
     ]
    },
    {
     "name": "stdout",
     "output_type": "stream",
     "text": [
      "items_in_sh_month_cnt started\n"
     ]
    },
    {
     "name": "stderr",
     "output_type": "stream",
     "text": [
      "100%|██████████| 23/23 [02:59<00:00,  8.75s/it]\n"
     ]
    },
    {
     "name": "stdout",
     "output_type": "stream",
     "text": [
      "0.6686320079594921\n"
     ]
    },
    {
     "name": "stderr",
     "output_type": "stream",
     "text": [
      "\r",
      "  0%|          | 0/23 [00:00<?, ?it/s]"
     ]
    },
    {
     "name": "stdout",
     "output_type": "stream",
     "text": [
      "items_type_month_cnt started\n"
     ]
    },
    {
     "name": "stderr",
     "output_type": "stream",
     "text": [
      "100%|██████████| 23/23 [02:59<00:00,  8.85s/it]\n"
     ]
    },
    {
     "name": "stdout",
     "output_type": "stream",
     "text": [
      "0.6640553503308031\n"
     ]
    },
    {
     "name": "stderr",
     "output_type": "stream",
     "text": [
      "\r",
      "  0%|          | 0/23 [00:00<?, ?it/s]"
     ]
    },
    {
     "name": "stdout",
     "output_type": "stream",
     "text": [
      "items_city_month_cnt started\n"
     ]
    },
    {
     "name": "stderr",
     "output_type": "stream",
     "text": [
      "100%|██████████| 23/23 [03:00<00:00,  8.85s/it]\n"
     ]
    },
    {
     "name": "stdout",
     "output_type": "stream",
     "text": [
      "0.8134303567760216\n"
     ]
    },
    {
     "name": "stderr",
     "output_type": "stream",
     "text": [
      "\r",
      "  0%|          | 0/23 [00:00<?, ?it/s]"
     ]
    },
    {
     "name": "stdout",
     "output_type": "stream",
     "text": [
      "days_with_sales started\n"
     ]
    },
    {
     "name": "stderr",
     "output_type": "stream",
     "text": [
      "100%|██████████| 23/23 [03:01<00:00,  8.95s/it]\n"
     ]
    },
    {
     "name": "stdout",
     "output_type": "stream",
     "text": [
      "0.8251324877063659\n"
     ]
    },
    {
     "name": "stderr",
     "output_type": "stream",
     "text": [
      "\r",
      "  0%|          | 0/23 [00:00<?, ?it/s]"
     ]
    },
    {
     "name": "stdout",
     "output_type": "stream",
     "text": [
      "price_cnt started\n"
     ]
    },
    {
     "name": "stderr",
     "output_type": "stream",
     "text": [
      "100%|██████████| 23/23 [03:01<00:00,  8.82s/it]\n"
     ]
    },
    {
     "name": "stdout",
     "output_type": "stream",
     "text": [
      "0.774248083802809\n"
     ]
    },
    {
     "name": "stderr",
     "output_type": "stream",
     "text": [
      "\r",
      "  0%|          | 0/23 [00:00<?, ?it/s]"
     ]
    },
    {
     "name": "stdout",
     "output_type": "stream",
     "text": [
      "price_std started\n"
     ]
    },
    {
     "name": "stderr",
     "output_type": "stream",
     "text": [
      "100%|██████████| 23/23 [03:00<00:00,  8.85s/it]\n"
     ]
    },
    {
     "name": "stdout",
     "output_type": "stream",
     "text": [
      "0.8091241129866545\n"
     ]
    },
    {
     "name": "stderr",
     "output_type": "stream",
     "text": [
      "\r",
      "  0%|          | 0/23 [00:00<?, ?it/s]"
     ]
    },
    {
     "name": "stdout",
     "output_type": "stream",
     "text": [
      "price_mean started\n"
     ]
    },
    {
     "name": "stderr",
     "output_type": "stream",
     "text": [
      "100%|██████████| 23/23 [03:03<00:00,  8.99s/it]\n"
     ]
    },
    {
     "name": "stdout",
     "output_type": "stream",
     "text": [
      "0.8661918390504381\n"
     ]
    }
   ],
   "source": [
    "for feature in features:\n",
    "  print(feature, 'started')\n",
    "  for dm in tqdm(dms): \n",
    "    df_tmp1 = time_agg1(df, dm, feature, cols=cols, pref='_2')\n",
    "\n",
    "    if dm == 12:\n",
    "      df_total = df_tmp1\n",
    "    else:\n",
    "      df_total = df_total.append(df_tmp1, sort=False, ignore_index=True)\n",
    "\n",
    "  df_total.fillna(0, inplace=True)\n",
    "  X_cols = [x for x in df_total.columns if x not in cols + ['item_cnt_month'] +  ['date_block_num']]\n",
    "  pc = get_pc(df_total[X_cols], n=3, feature=feature, prefix='2_')\n",
    "  df_out = pd.concat([df_total[cols].astype(np.int16), pc.astype(np.float16)], axis=1)\n",
    "  df_out.to_pickle('output/pc_' + '2_' + feature + '.pkl')"
   ]
  },
  {
   "cell_type": "code",
   "execution_count": 0,
   "metadata": {
    "colab": {
     "base_uri": "https://localhost:8080/",
     "height": 204
    },
    "colab_type": "code",
    "executionInfo": {
     "elapsed": 1899748,
     "status": "ok",
     "timestamp": 1582616617881,
     "user": {
      "displayName": "Marat Khanbekov",
      "photoUrl": "",
      "userId": "13863223712125979771"
     },
     "user_tz": -180
    },
    "id": "T2x39TxIqc9y",
    "outputId": "e99a0dd6-70af-4a6e-a20d-7e1e0609df81"
   },
   "outputs": [
    {
     "data": {
      "text/html": [
       "<div>\n",
       "<style scoped>\n",
       "    .dataframe tbody tr th:only-of-type {\n",
       "        vertical-align: middle;\n",
       "    }\n",
       "\n",
       "    .dataframe tbody tr th {\n",
       "        vertical-align: top;\n",
       "    }\n",
       "\n",
       "    .dataframe thead th {\n",
       "        text-align: right;\n",
       "    }\n",
       "</style>\n",
       "<table border=\"1\" class=\"dataframe\">\n",
       "  <thead>\n",
       "    <tr style=\"text-align: right;\">\n",
       "      <th></th>\n",
       "      <th>asofblock</th>\n",
       "      <th>shop_id</th>\n",
       "      <th>city_code</th>\n",
       "      <th>type_code</th>\n",
       "      <th>item_id</th>\n",
       "      <th>pc_2_price_mean1</th>\n",
       "      <th>pc_2_price_mean2</th>\n",
       "      <th>pc_2_price_mean3</th>\n",
       "    </tr>\n",
       "  </thead>\n",
       "  <tbody>\n",
       "    <tr>\n",
       "      <th>0</th>\n",
       "      <td>13</td>\n",
       "      <td>2</td>\n",
       "      <td>0</td>\n",
       "      <td>1</td>\n",
       "      <td>1956</td>\n",
       "      <td>-0.600098</td>\n",
       "      <td>-0.359375</td>\n",
       "      <td>0.204712</td>\n",
       "    </tr>\n",
       "    <tr>\n",
       "      <th>1</th>\n",
       "      <td>13</td>\n",
       "      <td>2</td>\n",
       "      <td>0</td>\n",
       "      <td>1</td>\n",
       "      <td>1958</td>\n",
       "      <td>-0.600098</td>\n",
       "      <td>-0.359375</td>\n",
       "      <td>0.204712</td>\n",
       "    </tr>\n",
       "    <tr>\n",
       "      <th>2</th>\n",
       "      <td>13</td>\n",
       "      <td>2</td>\n",
       "      <td>0</td>\n",
       "      <td>1</td>\n",
       "      <td>5571</td>\n",
       "      <td>-0.600098</td>\n",
       "      <td>-0.359375</td>\n",
       "      <td>0.204712</td>\n",
       "    </tr>\n",
       "    <tr>\n",
       "      <th>3</th>\n",
       "      <td>13</td>\n",
       "      <td>2</td>\n",
       "      <td>0</td>\n",
       "      <td>1</td>\n",
       "      <td>5572</td>\n",
       "      <td>2.923828</td>\n",
       "      <td>-1.616211</td>\n",
       "      <td>1.651367</td>\n",
       "    </tr>\n",
       "    <tr>\n",
       "      <th>4</th>\n",
       "      <td>13</td>\n",
       "      <td>2</td>\n",
       "      <td>0</td>\n",
       "      <td>1</td>\n",
       "      <td>5573</td>\n",
       "      <td>1.161133</td>\n",
       "      <td>-0.987793</td>\n",
       "      <td>0.927734</td>\n",
       "    </tr>\n",
       "  </tbody>\n",
       "</table>\n",
       "</div>"
      ],
      "text/plain": [
       "   asofblock  shop_id  ...  pc_2_price_mean2  pc_2_price_mean3\n",
       "0         13        2  ...         -0.359375          0.204712\n",
       "1         13        2  ...         -0.359375          0.204712\n",
       "2         13        2  ...         -0.359375          0.204712\n",
       "3         13        2  ...         -1.616211          1.651367\n",
       "4         13        2  ...         -0.987793          0.927734\n",
       "\n",
       "[5 rows x 8 columns]"
      ]
     },
     "execution_count": 9,
     "metadata": {
      "tags": []
     },
     "output_type": "execute_result"
    }
   ],
   "source": [
    "df_out.head()"
   ]
  },
  {
   "cell_type": "markdown",
   "metadata": {
    "colab_type": "text",
    "id": "JfYsQcrAK1bs"
   },
   "source": [
    "## Combine variables"
   ]
  },
  {
   "cell_type": "code",
   "execution_count": 0,
   "metadata": {
    "colab": {},
    "colab_type": "code",
    "id": "PijCj3_IK6gu"
   },
   "outputs": [],
   "source": [
    "# 1\n",
    "features = [\n",
    "              'item_cnt_month', \n",
    "              'shops_month_cnt', \n",
    "              'items_in_sh_month_cnt', \n",
    "              'items_type_month_cnt', \n",
    "              'items_city_month_cnt',\n",
    "              'days_with_sales',\n",
    "              'price_cnt',\n",
    "              'price_std',\n",
    "              'price_mean']\n",
    "\n",
    "cols = ['asofblock', 'shop_id', 'item_id']\n",
    "\n",
    "for i in range(0, len(features)):\n",
    "  df_tmp = pd.read_pickle('output/pc_'+features[i]+'.pkl')\n",
    "  if i == 0:\n",
    "    df_fin = df_tmp\n",
    "  else:\n",
    "    df_fin = pd.merge(df_fin, df_tmp, how='left', on=cols)"
   ]
  },
  {
   "cell_type": "code",
   "execution_count": 0,
   "metadata": {
    "colab": {},
    "colab_type": "code",
    "id": "9Im9ZB0Pkaaz"
   },
   "outputs": [],
   "source": [
    "# 2\n",
    "features = [\n",
    "              'item_cnt_month', \n",
    "              'shops_month_cnt', \n",
    "              'items_in_sh_month_cnt', \n",
    "              'items_type_month_cnt', \n",
    "              'items_city_month_cnt',\n",
    "              'days_with_sales',\n",
    "              'price_cnt',\n",
    "              'price_std',\n",
    "              'price_mean']\n",
    "\n",
    "cols = ['asofblock', 'shop_id', 'city_code', 'type_code', 'item_id']\n",
    "\n",
    "for i in range(0, len(features)):\n",
    "  df_tmp = pd.read_pickle('output/pc_' + '2_' + features [i] + '.pkl')\n",
    "  if i == 0:\n",
    "    df_fin_2 = df_tmp\n",
    "  else:\n",
    "    df_fin_2 = pd.merge(df_fin_2, df_tmp, how='left', on=cols)"
   ]
  },
  {
   "cell_type": "code",
   "execution_count": 0,
   "metadata": {
    "colab": {
     "base_uri": "https://localhost:8080/",
     "height": 224
    },
    "colab_type": "code",
    "executionInfo": {
     "elapsed": 144140,
     "status": "ok",
     "timestamp": 1582631303623,
     "user": {
      "displayName": "Marat Khanbekov",
      "photoUrl": "",
      "userId": "13863223712125979771"
     },
     "user_tz": -180
    },
    "id": "hmF2dMQ7o_gI",
    "outputId": "08d4d998-17c7-44b8-969e-2dd2f67883b8"
   },
   "outputs": [
    {
     "data": {
      "text/html": [
       "<div>\n",
       "<style scoped>\n",
       "    .dataframe tbody tr th:only-of-type {\n",
       "        vertical-align: middle;\n",
       "    }\n",
       "\n",
       "    .dataframe tbody tr th {\n",
       "        vertical-align: top;\n",
       "    }\n",
       "\n",
       "    .dataframe thead th {\n",
       "        text-align: right;\n",
       "    }\n",
       "</style>\n",
       "<table border=\"1\" class=\"dataframe\">\n",
       "  <thead>\n",
       "    <tr style=\"text-align: right;\">\n",
       "      <th></th>\n",
       "      <th>asofblock</th>\n",
       "      <th>shop_id</th>\n",
       "      <th>city_code</th>\n",
       "      <th>type_code</th>\n",
       "      <th>item_id</th>\n",
       "      <th>pc_2_item_cnt_month1</th>\n",
       "      <th>pc_2_item_cnt_month2</th>\n",
       "      <th>pc_2_item_cnt_month3</th>\n",
       "      <th>pc_2_shops_month_cnt1</th>\n",
       "      <th>pc_2_shops_month_cnt2</th>\n",
       "      <th>pc_2_shops_month_cnt3</th>\n",
       "      <th>pc_2_items_in_sh_month_cnt1</th>\n",
       "      <th>pc_2_items_in_sh_month_cnt2</th>\n",
       "      <th>pc_2_items_in_sh_month_cnt3</th>\n",
       "      <th>pc_2_items_type_month_cnt1</th>\n",
       "      <th>pc_2_items_type_month_cnt2</th>\n",
       "      <th>pc_2_items_type_month_cnt3</th>\n",
       "      <th>pc_2_items_city_month_cnt1</th>\n",
       "      <th>pc_2_items_city_month_cnt2</th>\n",
       "      <th>pc_2_items_city_month_cnt3</th>\n",
       "      <th>pc_2_days_with_sales1</th>\n",
       "      <th>pc_2_days_with_sales2</th>\n",
       "      <th>pc_2_days_with_sales3</th>\n",
       "      <th>pc_2_price_cnt1</th>\n",
       "      <th>pc_2_price_cnt2</th>\n",
       "      <th>pc_2_price_cnt3</th>\n",
       "      <th>pc_2_price_std1</th>\n",
       "      <th>pc_2_price_std2</th>\n",
       "      <th>pc_2_price_std3</th>\n",
       "      <th>pc_2_price_mean1</th>\n",
       "      <th>pc_2_price_mean2</th>\n",
       "      <th>pc_2_price_mean3</th>\n",
       "    </tr>\n",
       "  </thead>\n",
       "  <tbody>\n",
       "    <tr>\n",
       "      <th>0</th>\n",
       "      <td>13</td>\n",
       "      <td>2</td>\n",
       "      <td>0</td>\n",
       "      <td>1</td>\n",
       "      <td>1956</td>\n",
       "      <td>-0.571289</td>\n",
       "      <td>-0.090881</td>\n",
       "      <td>-0.003275</td>\n",
       "      <td>0.005894</td>\n",
       "      <td>-1.854492</td>\n",
       "      <td>-0.473145</td>\n",
       "      <td>-1.112305</td>\n",
       "      <td>-2.279297</td>\n",
       "      <td>0.885742</td>\n",
       "      <td>0.005894</td>\n",
       "      <td>-1.854492</td>\n",
       "      <td>-0.473145</td>\n",
       "      <td>-1.50293</td>\n",
       "      <td>-0.30127</td>\n",
       "      <td>-0.037567</td>\n",
       "      <td>-0.641602</td>\n",
       "      <td>-0.073975</td>\n",
       "      <td>-0.005760</td>\n",
       "      <td>-0.749023</td>\n",
       "      <td>-0.122559</td>\n",
       "      <td>0.029785</td>\n",
       "      <td>-0.770996</td>\n",
       "      <td>-0.212402</td>\n",
       "      <td>0.090088</td>\n",
       "      <td>-0.600098</td>\n",
       "      <td>-0.359375</td>\n",
       "      <td>0.204712</td>\n",
       "    </tr>\n",
       "    <tr>\n",
       "      <th>1</th>\n",
       "      <td>13</td>\n",
       "      <td>2</td>\n",
       "      <td>0</td>\n",
       "      <td>1</td>\n",
       "      <td>1958</td>\n",
       "      <td>-0.571289</td>\n",
       "      <td>-0.090881</td>\n",
       "      <td>-0.003275</td>\n",
       "      <td>0.005894</td>\n",
       "      <td>-1.854492</td>\n",
       "      <td>-0.473145</td>\n",
       "      <td>-1.112305</td>\n",
       "      <td>-2.279297</td>\n",
       "      <td>0.885742</td>\n",
       "      <td>0.005894</td>\n",
       "      <td>-1.854492</td>\n",
       "      <td>-0.473145</td>\n",
       "      <td>-1.50293</td>\n",
       "      <td>-0.30127</td>\n",
       "      <td>-0.037567</td>\n",
       "      <td>-0.641602</td>\n",
       "      <td>-0.073975</td>\n",
       "      <td>-0.005760</td>\n",
       "      <td>-0.749023</td>\n",
       "      <td>-0.122559</td>\n",
       "      <td>0.029785</td>\n",
       "      <td>-1.054688</td>\n",
       "      <td>-0.113647</td>\n",
       "      <td>-0.058563</td>\n",
       "      <td>-0.600098</td>\n",
       "      <td>-0.359375</td>\n",
       "      <td>0.204712</td>\n",
       "    </tr>\n",
       "    <tr>\n",
       "      <th>2</th>\n",
       "      <td>13</td>\n",
       "      <td>2</td>\n",
       "      <td>0</td>\n",
       "      <td>1</td>\n",
       "      <td>5571</td>\n",
       "      <td>-0.571289</td>\n",
       "      <td>-0.090881</td>\n",
       "      <td>-0.003275</td>\n",
       "      <td>0.005894</td>\n",
       "      <td>-1.854492</td>\n",
       "      <td>-0.473145</td>\n",
       "      <td>-1.112305</td>\n",
       "      <td>-2.279297</td>\n",
       "      <td>0.885742</td>\n",
       "      <td>0.005894</td>\n",
       "      <td>-1.854492</td>\n",
       "      <td>-0.473145</td>\n",
       "      <td>-1.50293</td>\n",
       "      <td>-0.30127</td>\n",
       "      <td>-0.037567</td>\n",
       "      <td>-0.641602</td>\n",
       "      <td>-0.073975</td>\n",
       "      <td>-0.005760</td>\n",
       "      <td>-0.749023</td>\n",
       "      <td>-0.122559</td>\n",
       "      <td>0.029785</td>\n",
       "      <td>-0.512207</td>\n",
       "      <td>-0.302734</td>\n",
       "      <td>0.225830</td>\n",
       "      <td>-0.600098</td>\n",
       "      <td>-0.359375</td>\n",
       "      <td>0.204712</td>\n",
       "    </tr>\n",
       "    <tr>\n",
       "      <th>3</th>\n",
       "      <td>13</td>\n",
       "      <td>2</td>\n",
       "      <td>0</td>\n",
       "      <td>1</td>\n",
       "      <td>5572</td>\n",
       "      <td>3.693359</td>\n",
       "      <td>-1.437500</td>\n",
       "      <td>0.838867</td>\n",
       "      <td>0.005894</td>\n",
       "      <td>-1.854492</td>\n",
       "      <td>-0.473145</td>\n",
       "      <td>-1.112305</td>\n",
       "      <td>-2.279297</td>\n",
       "      <td>0.885742</td>\n",
       "      <td>0.005894</td>\n",
       "      <td>-1.854492</td>\n",
       "      <td>-0.473145</td>\n",
       "      <td>-1.50293</td>\n",
       "      <td>-0.30127</td>\n",
       "      <td>-0.037567</td>\n",
       "      <td>2.025391</td>\n",
       "      <td>-0.973633</td>\n",
       "      <td>0.506348</td>\n",
       "      <td>2.166016</td>\n",
       "      <td>-0.852539</td>\n",
       "      <td>-0.426025</td>\n",
       "      <td>0.890137</td>\n",
       "      <td>-0.791016</td>\n",
       "      <td>0.960449</td>\n",
       "      <td>2.923828</td>\n",
       "      <td>-1.616211</td>\n",
       "      <td>1.651367</td>\n",
       "    </tr>\n",
       "    <tr>\n",
       "      <th>4</th>\n",
       "      <td>13</td>\n",
       "      <td>2</td>\n",
       "      <td>0</td>\n",
       "      <td>1</td>\n",
       "      <td>5573</td>\n",
       "      <td>-0.571289</td>\n",
       "      <td>-0.090881</td>\n",
       "      <td>-0.003275</td>\n",
       "      <td>0.005894</td>\n",
       "      <td>-1.854492</td>\n",
       "      <td>-0.473145</td>\n",
       "      <td>-1.112305</td>\n",
       "      <td>-2.279297</td>\n",
       "      <td>0.885742</td>\n",
       "      <td>0.005894</td>\n",
       "      <td>-1.854492</td>\n",
       "      <td>-0.473145</td>\n",
       "      <td>-1.50293</td>\n",
       "      <td>-0.30127</td>\n",
       "      <td>-0.037567</td>\n",
       "      <td>-0.641602</td>\n",
       "      <td>-0.073975</td>\n",
       "      <td>-0.005760</td>\n",
       "      <td>0.566895</td>\n",
       "      <td>-0.451904</td>\n",
       "      <td>-0.176025</td>\n",
       "      <td>-0.515625</td>\n",
       "      <td>-0.301514</td>\n",
       "      <td>0.223999</td>\n",
       "      <td>1.161133</td>\n",
       "      <td>-0.987793</td>\n",
       "      <td>0.927734</td>\n",
       "    </tr>\n",
       "  </tbody>\n",
       "</table>\n",
       "</div>"
      ],
      "text/plain": [
       "   asofblock  shop_id  ...  pc_2_price_mean2  pc_2_price_mean3\n",
       "0         13        2  ...         -0.359375          0.204712\n",
       "1         13        2  ...         -0.359375          0.204712\n",
       "2         13        2  ...         -0.359375          0.204712\n",
       "3         13        2  ...         -1.616211          1.651367\n",
       "4         13        2  ...         -0.987793          0.927734\n",
       "\n",
       "[5 rows x 32 columns]"
      ]
     },
     "execution_count": 7,
     "metadata": {
      "tags": []
     },
     "output_type": "execute_result"
    }
   ],
   "source": [
    "df_fin_2.head()"
   ]
  },
  {
   "cell_type": "code",
   "execution_count": 0,
   "metadata": {
    "colab": {},
    "colab_type": "code",
    "id": "toB0dE4pRh1a"
   },
   "outputs": [],
   "source": [
    "df_merged = pd.merge(\n",
    "                 df,\n",
    "                 df_fin,\n",
    "                 left_on=['date_block_num', 'shop_id', 'item_id'],\n",
    "                 right_on=['asofblock', 'shop_id', 'item_id'],\n",
    "                 how='left')\\\n",
    "              .merge(\n",
    "                 df_fin_2,\n",
    "                 left_on=['date_block_num', 'shop_id', 'city_code', 'type_code', 'item_id'],\n",
    "                 right_on=['asofblock', 'shop_id', 'city_code', 'type_code', 'item_id'],\n",
    "                 how='left')"
   ]
  },
  {
   "cell_type": "code",
   "execution_count": 0,
   "metadata": {
    "colab": {},
    "colab_type": "code",
    "id": "4FATEW4WSbvb"
   },
   "outputs": [],
   "source": [
    "df_merged.fillna(0, inplace=True)"
   ]
  },
  {
   "cell_type": "code",
   "execution_count": 0,
   "metadata": {
    "colab": {},
    "colab_type": "code",
    "id": "5ZIHHTePSZPu"
   },
   "outputs": [],
   "source": [
    "X_cols = [\n",
    "'date_block_num',\n",
    "'shop_id',\n",
    "'item_id',\n",
    "'ID',\n",
    "\n",
    "'pc_1_item_cnt_month1',\n",
    "'pc_1_item_cnt_month2',\n",
    "'pc_1_item_cnt_month3',\n",
    "'pc_1_shops_month_cnt1',\n",
    "'pc_1_shops_month_cnt2',\n",
    "'pc_1_shops_month_cnt3',\n",
    "'pc_1_items_in_sh_month_cnt1',\n",
    "'pc_1_items_in_sh_month_cnt2',\n",
    "'pc_1_items_in_sh_month_cnt3',\n",
    "'pc_1_items_type_month_cnt1',\n",
    "'pc_1_items_type_month_cnt2',\n",
    "'pc_1_items_type_month_cnt3',\n",
    "'pc_1_items_city_month_cnt1',\n",
    "'pc_1_items_city_month_cnt2',\n",
    "'pc_1_items_city_month_cnt3',\n",
    "'pc_1_days_with_sales1',\n",
    "'pc_1_days_with_sales2',\n",
    "'pc_1_days_with_sales3',\n",
    "'pc_1_price_cnt1',\n",
    "'pc_1_price_cnt2',\n",
    "'pc_1_price_cnt3',\n",
    "'pc_1_price_std1',\n",
    "'pc_1_price_std2',\n",
    "'pc_1_price_std3',\n",
    "'pc_1_price_mean1',\n",
    "'pc_1_price_mean2',\n",
    "'pc_1_price_mean3',\n",
    "\n",
    "'pc_2_item_cnt_month1',\n",
    "'pc_2_item_cnt_month2',\n",
    "'pc_2_item_cnt_month3',\n",
    "'pc_2_shops_month_cnt1',\n",
    "'pc_2_shops_month_cnt2',\n",
    "'pc_2_shops_month_cnt3',\n",
    "'pc_2_items_in_sh_month_cnt1',\n",
    "'pc_2_items_in_sh_month_cnt2',\n",
    "'pc_2_items_in_sh_month_cnt3',\n",
    "'pc_2_items_type_month_cnt1',\n",
    "'pc_2_items_type_month_cnt2',\n",
    "'pc_2_items_type_month_cnt3',\n",
    "'pc_2_items_city_month_cnt1',\n",
    "'pc_2_items_city_month_cnt2',\n",
    "'pc_2_items_city_month_cnt3',\n",
    "'pc_2_days_with_sales1',\n",
    "'pc_2_days_with_sales2',\n",
    "'pc_2_days_with_sales3',\n",
    "'pc_2_price_cnt1',\n",
    "'pc_2_price_cnt2',\n",
    "'pc_2_price_cnt3',\n",
    "'pc_2_price_std1',\n",
    "'pc_2_price_std2',\n",
    "'pc_2_price_std3',\n",
    "'pc_2_price_mean1',\n",
    "'pc_2_price_mean2',\n",
    "'pc_2_price_mean3',\n",
    "]"
   ]
  },
  {
   "cell_type": "code",
   "execution_count": 0,
   "metadata": {
    "colab": {},
    "colab_type": "code",
    "id": "YPohhV81S2er"
   },
   "outputs": [],
   "source": [
    "y_col = 'item_cnt_month'"
   ]
  },
  {
   "cell_type": "code",
   "execution_count": 0,
   "metadata": {
    "colab": {
     "base_uri": "https://localhost:8080/",
     "height": 170
    },
    "colab_type": "code",
    "executionInfo": {
     "elapsed": 4198838,
     "status": "ok",
     "timestamp": 1582621479455,
     "user": {
      "displayName": "Marat Khanbekov",
      "photoUrl": "",
      "userId": "13863223712125979771"
     },
     "user_tz": -180
    },
    "id": "xFGceCwFSXET",
    "outputId": "64054033-6b7a-4d19-c2ea-477fac2b0c95"
   },
   "outputs": [
    {
     "name": "stderr",
     "output_type": "stream",
     "text": [
      "[Parallel(n_jobs=10)]: Using backend ThreadingBackend with 10 concurrent workers.\n",
      "[Parallel(n_jobs=10)]: Done  30 out of  30 | elapsed: 69.9min finished\n"
     ]
    },
    {
     "data": {
      "text/plain": [
       "RandomForestRegressor(bootstrap=True, ccp_alpha=0.0, criterion='mse',\n",
       "                      max_depth=None, max_features='auto', max_leaf_nodes=None,\n",
       "                      max_samples=None, min_impurity_decrease=0.0,\n",
       "                      min_impurity_split=None, min_samples_leaf=100,\n",
       "                      min_samples_split=2, min_weight_fraction_leaf=0.0,\n",
       "                      n_estimators=30, n_jobs=10, oob_score=False,\n",
       "                      random_state=None, verbose=True, warm_start=False)"
      ]
     },
     "execution_count": 19,
     "metadata": {
      "tags": []
     },
     "output_type": "execute_result"
    }
   ],
   "source": [
    "from sklearn.ensemble import RandomForestRegressor\n",
    "rfr = RandomForestRegressor(n_estimators=30, verbose=True, min_samples_leaf=100, n_jobs=10)\n",
    "rfr.fit(df_merged[X_cols], df_merged[y_col])"
   ]
  },
  {
   "cell_type": "code",
   "execution_count": 0,
   "metadata": {
    "colab": {
     "base_uri": "https://localhost:8080/",
     "height": 1000
    },
    "colab_type": "code",
    "executionInfo": {
     "elapsed": 4197196,
     "status": "ok",
     "timestamp": 1582621479460,
     "user": {
      "displayName": "Marat Khanbekov",
      "photoUrl": "",
      "userId": "13863223712125979771"
     },
     "user_tz": -180
    },
    "id": "NdDKJkukSWlx",
    "outputId": "2ac99a98-1e45-4926-ef76-4f4649d6fd6f"
   },
   "outputs": [
    {
     "data": {
      "text/html": [
       "<div>\n",
       "<style scoped>\n",
       "    .dataframe tbody tr th:only-of-type {\n",
       "        vertical-align: middle;\n",
       "    }\n",
       "\n",
       "    .dataframe tbody tr th {\n",
       "        vertical-align: top;\n",
       "    }\n",
       "\n",
       "    .dataframe thead th {\n",
       "        text-align: right;\n",
       "    }\n",
       "</style>\n",
       "<table border=\"1\" class=\"dataframe\">\n",
       "  <thead>\n",
       "    <tr style=\"text-align: right;\">\n",
       "      <th></th>\n",
       "      <th>f</th>\n",
       "      <th>v</th>\n",
       "    </tr>\n",
       "  </thead>\n",
       "  <tbody>\n",
       "    <tr>\n",
       "      <th>17</th>\n",
       "      <td>0.000379</td>\n",
       "      <td>pc_1_items_city_month_cnt2</td>\n",
       "    </tr>\n",
       "    <tr>\n",
       "      <th>44</th>\n",
       "      <td>0.000405</td>\n",
       "      <td>pc_2_items_city_month_cnt2</td>\n",
       "    </tr>\n",
       "    <tr>\n",
       "      <th>43</th>\n",
       "      <td>0.000456</td>\n",
       "      <td>pc_2_items_city_month_cnt1</td>\n",
       "    </tr>\n",
       "    <tr>\n",
       "      <th>16</th>\n",
       "      <td>0.000509</td>\n",
       "      <td>pc_1_items_city_month_cnt1</td>\n",
       "    </tr>\n",
       "    <tr>\n",
       "      <th>14</th>\n",
       "      <td>0.000819</td>\n",
       "      <td>pc_1_items_type_month_cnt2</td>\n",
       "    </tr>\n",
       "    <tr>\n",
       "      <th>41</th>\n",
       "      <td>0.000901</td>\n",
       "      <td>pc_2_items_type_month_cnt2</td>\n",
       "    </tr>\n",
       "    <tr>\n",
       "      <th>35</th>\n",
       "      <td>0.000906</td>\n",
       "      <td>pc_2_shops_month_cnt2</td>\n",
       "    </tr>\n",
       "    <tr>\n",
       "      <th>8</th>\n",
       "      <td>0.000911</td>\n",
       "      <td>pc_1_shops_month_cnt2</td>\n",
       "    </tr>\n",
       "    <tr>\n",
       "      <th>36</th>\n",
       "      <td>0.000966</td>\n",
       "      <td>pc_2_shops_month_cnt3</td>\n",
       "    </tr>\n",
       "    <tr>\n",
       "      <th>9</th>\n",
       "      <td>0.001072</td>\n",
       "      <td>pc_1_shops_month_cnt3</td>\n",
       "    </tr>\n",
       "    <tr>\n",
       "      <th>15</th>\n",
       "      <td>0.001093</td>\n",
       "      <td>pc_1_items_type_month_cnt3</td>\n",
       "    </tr>\n",
       "    <tr>\n",
       "      <th>42</th>\n",
       "      <td>0.001121</td>\n",
       "      <td>pc_2_items_type_month_cnt3</td>\n",
       "    </tr>\n",
       "    <tr>\n",
       "      <th>23</th>\n",
       "      <td>0.001656</td>\n",
       "      <td>pc_1_price_cnt2</td>\n",
       "    </tr>\n",
       "    <tr>\n",
       "      <th>20</th>\n",
       "      <td>0.001675</td>\n",
       "      <td>pc_1_days_with_sales2</td>\n",
       "    </tr>\n",
       "    <tr>\n",
       "      <th>11</th>\n",
       "      <td>0.001690</td>\n",
       "      <td>pc_1_items_in_sh_month_cnt2</td>\n",
       "    </tr>\n",
       "    <tr>\n",
       "      <th>38</th>\n",
       "      <td>0.001751</td>\n",
       "      <td>pc_2_items_in_sh_month_cnt2</td>\n",
       "    </tr>\n",
       "    <tr>\n",
       "      <th>21</th>\n",
       "      <td>0.001759</td>\n",
       "      <td>pc_1_days_with_sales3</td>\n",
       "    </tr>\n",
       "    <tr>\n",
       "      <th>50</th>\n",
       "      <td>0.001769</td>\n",
       "      <td>pc_2_price_cnt2</td>\n",
       "    </tr>\n",
       "    <tr>\n",
       "      <th>51</th>\n",
       "      <td>0.001840</td>\n",
       "      <td>pc_2_price_cnt3</td>\n",
       "    </tr>\n",
       "    <tr>\n",
       "      <th>13</th>\n",
       "      <td>0.001852</td>\n",
       "      <td>pc_1_items_type_month_cnt1</td>\n",
       "    </tr>\n",
       "    <tr>\n",
       "      <th>34</th>\n",
       "      <td>0.001858</td>\n",
       "      <td>pc_2_shops_month_cnt1</td>\n",
       "    </tr>\n",
       "    <tr>\n",
       "      <th>47</th>\n",
       "      <td>0.001885</td>\n",
       "      <td>pc_2_days_with_sales2</td>\n",
       "    </tr>\n",
       "    <tr>\n",
       "      <th>18</th>\n",
       "      <td>0.001887</td>\n",
       "      <td>pc_1_items_city_month_cnt3</td>\n",
       "    </tr>\n",
       "    <tr>\n",
       "      <th>48</th>\n",
       "      <td>0.001895</td>\n",
       "      <td>pc_2_days_with_sales3</td>\n",
       "    </tr>\n",
       "    <tr>\n",
       "      <th>40</th>\n",
       "      <td>0.001924</td>\n",
       "      <td>pc_2_items_type_month_cnt1</td>\n",
       "    </tr>\n",
       "    <tr>\n",
       "      <th>24</th>\n",
       "      <td>0.001945</td>\n",
       "      <td>pc_1_price_cnt3</td>\n",
       "    </tr>\n",
       "    <tr>\n",
       "      <th>7</th>\n",
       "      <td>0.002016</td>\n",
       "      <td>pc_1_shops_month_cnt1</td>\n",
       "    </tr>\n",
       "    <tr>\n",
       "      <th>45</th>\n",
       "      <td>0.002092</td>\n",
       "      <td>pc_2_items_city_month_cnt3</td>\n",
       "    </tr>\n",
       "    <tr>\n",
       "      <th>52</th>\n",
       "      <td>0.002303</td>\n",
       "      <td>pc_2_price_std1</td>\n",
       "    </tr>\n",
       "    <tr>\n",
       "      <th>25</th>\n",
       "      <td>0.002332</td>\n",
       "      <td>pc_1_price_std1</td>\n",
       "    </tr>\n",
       "    <tr>\n",
       "      <th>56</th>\n",
       "      <td>0.002364</td>\n",
       "      <td>pc_2_price_mean2</td>\n",
       "    </tr>\n",
       "    <tr>\n",
       "      <th>54</th>\n",
       "      <td>0.002464</td>\n",
       "      <td>pc_2_price_std3</td>\n",
       "    </tr>\n",
       "    <tr>\n",
       "      <th>29</th>\n",
       "      <td>0.002641</td>\n",
       "      <td>pc_1_price_mean2</td>\n",
       "    </tr>\n",
       "    <tr>\n",
       "      <th>27</th>\n",
       "      <td>0.002793</td>\n",
       "      <td>pc_1_price_std3</td>\n",
       "    </tr>\n",
       "    <tr>\n",
       "      <th>55</th>\n",
       "      <td>0.002814</td>\n",
       "      <td>pc_2_price_mean1</td>\n",
       "    </tr>\n",
       "    <tr>\n",
       "      <th>37</th>\n",
       "      <td>0.002865</td>\n",
       "      <td>pc_2_items_in_sh_month_cnt1</td>\n",
       "    </tr>\n",
       "    <tr>\n",
       "      <th>10</th>\n",
       "      <td>0.002925</td>\n",
       "      <td>pc_1_items_in_sh_month_cnt1</td>\n",
       "    </tr>\n",
       "    <tr>\n",
       "      <th>26</th>\n",
       "      <td>0.002965</td>\n",
       "      <td>pc_1_price_std2</td>\n",
       "    </tr>\n",
       "    <tr>\n",
       "      <th>28</th>\n",
       "      <td>0.003006</td>\n",
       "      <td>pc_1_price_mean1</td>\n",
       "    </tr>\n",
       "    <tr>\n",
       "      <th>53</th>\n",
       "      <td>0.003044</td>\n",
       "      <td>pc_2_price_std2</td>\n",
       "    </tr>\n",
       "    <tr>\n",
       "      <th>49</th>\n",
       "      <td>0.003149</td>\n",
       "      <td>pc_2_price_cnt1</td>\n",
       "    </tr>\n",
       "    <tr>\n",
       "      <th>22</th>\n",
       "      <td>0.003360</td>\n",
       "      <td>pc_1_price_cnt1</td>\n",
       "    </tr>\n",
       "    <tr>\n",
       "      <th>57</th>\n",
       "      <td>0.003725</td>\n",
       "      <td>pc_2_price_mean3</td>\n",
       "    </tr>\n",
       "    <tr>\n",
       "      <th>30</th>\n",
       "      <td>0.003769</td>\n",
       "      <td>pc_1_price_mean3</td>\n",
       "    </tr>\n",
       "    <tr>\n",
       "      <th>33</th>\n",
       "      <td>0.003977</td>\n",
       "      <td>pc_2_item_cnt_month3</td>\n",
       "    </tr>\n",
       "    <tr>\n",
       "      <th>6</th>\n",
       "      <td>0.004218</td>\n",
       "      <td>pc_1_item_cnt_month3</td>\n",
       "    </tr>\n",
       "    <tr>\n",
       "      <th>3</th>\n",
       "      <td>0.007907</td>\n",
       "      <td>ID</td>\n",
       "    </tr>\n",
       "    <tr>\n",
       "      <th>12</th>\n",
       "      <td>0.009369</td>\n",
       "      <td>pc_1_items_in_sh_month_cnt3</td>\n",
       "    </tr>\n",
       "    <tr>\n",
       "      <th>5</th>\n",
       "      <td>0.010781</td>\n",
       "      <td>pc_1_item_cnt_month2</td>\n",
       "    </tr>\n",
       "    <tr>\n",
       "      <th>32</th>\n",
       "      <td>0.011153</td>\n",
       "      <td>pc_2_item_cnt_month2</td>\n",
       "    </tr>\n",
       "    <tr>\n",
       "      <th>19</th>\n",
       "      <td>0.013332</td>\n",
       "      <td>pc_1_days_with_sales1</td>\n",
       "    </tr>\n",
       "    <tr>\n",
       "      <th>39</th>\n",
       "      <td>0.013453</td>\n",
       "      <td>pc_2_items_in_sh_month_cnt3</td>\n",
       "    </tr>\n",
       "    <tr>\n",
       "      <th>1</th>\n",
       "      <td>0.016595</td>\n",
       "      <td>shop_id</td>\n",
       "    </tr>\n",
       "    <tr>\n",
       "      <th>46</th>\n",
       "      <td>0.016933</td>\n",
       "      <td>pc_2_days_with_sales1</td>\n",
       "    </tr>\n",
       "    <tr>\n",
       "      <th>0</th>\n",
       "      <td>0.028139</td>\n",
       "      <td>date_block_num</td>\n",
       "    </tr>\n",
       "    <tr>\n",
       "      <th>2</th>\n",
       "      <td>0.124943</td>\n",
       "      <td>item_id</td>\n",
       "    </tr>\n",
       "    <tr>\n",
       "      <th>4</th>\n",
       "      <td>0.231223</td>\n",
       "      <td>pc_1_item_cnt_month1</td>\n",
       "    </tr>\n",
       "    <tr>\n",
       "      <th>31</th>\n",
       "      <td>0.422426</td>\n",
       "      <td>pc_2_item_cnt_month1</td>\n",
       "    </tr>\n",
       "  </tbody>\n",
       "</table>\n",
       "</div>"
      ],
      "text/plain": [
       "           f                            v\n",
       "17  0.000379   pc_1_items_city_month_cnt2\n",
       "44  0.000405   pc_2_items_city_month_cnt2\n",
       "43  0.000456   pc_2_items_city_month_cnt1\n",
       "16  0.000509   pc_1_items_city_month_cnt1\n",
       "14  0.000819   pc_1_items_type_month_cnt2\n",
       "41  0.000901   pc_2_items_type_month_cnt2\n",
       "35  0.000906        pc_2_shops_month_cnt2\n",
       "8   0.000911        pc_1_shops_month_cnt2\n",
       "36  0.000966        pc_2_shops_month_cnt3\n",
       "9   0.001072        pc_1_shops_month_cnt3\n",
       "15  0.001093   pc_1_items_type_month_cnt3\n",
       "42  0.001121   pc_2_items_type_month_cnt3\n",
       "23  0.001656              pc_1_price_cnt2\n",
       "20  0.001675        pc_1_days_with_sales2\n",
       "11  0.001690  pc_1_items_in_sh_month_cnt2\n",
       "38  0.001751  pc_2_items_in_sh_month_cnt2\n",
       "21  0.001759        pc_1_days_with_sales3\n",
       "50  0.001769              pc_2_price_cnt2\n",
       "51  0.001840              pc_2_price_cnt3\n",
       "13  0.001852   pc_1_items_type_month_cnt1\n",
       "34  0.001858        pc_2_shops_month_cnt1\n",
       "47  0.001885        pc_2_days_with_sales2\n",
       "18  0.001887   pc_1_items_city_month_cnt3\n",
       "48  0.001895        pc_2_days_with_sales3\n",
       "40  0.001924   pc_2_items_type_month_cnt1\n",
       "24  0.001945              pc_1_price_cnt3\n",
       "7   0.002016        pc_1_shops_month_cnt1\n",
       "45  0.002092   pc_2_items_city_month_cnt3\n",
       "52  0.002303              pc_2_price_std1\n",
       "25  0.002332              pc_1_price_std1\n",
       "56  0.002364             pc_2_price_mean2\n",
       "54  0.002464              pc_2_price_std3\n",
       "29  0.002641             pc_1_price_mean2\n",
       "27  0.002793              pc_1_price_std3\n",
       "55  0.002814             pc_2_price_mean1\n",
       "37  0.002865  pc_2_items_in_sh_month_cnt1\n",
       "10  0.002925  pc_1_items_in_sh_month_cnt1\n",
       "26  0.002965              pc_1_price_std2\n",
       "28  0.003006             pc_1_price_mean1\n",
       "53  0.003044              pc_2_price_std2\n",
       "49  0.003149              pc_2_price_cnt1\n",
       "22  0.003360              pc_1_price_cnt1\n",
       "57  0.003725             pc_2_price_mean3\n",
       "30  0.003769             pc_1_price_mean3\n",
       "33  0.003977         pc_2_item_cnt_month3\n",
       "6   0.004218         pc_1_item_cnt_month3\n",
       "3   0.007907                           ID\n",
       "12  0.009369  pc_1_items_in_sh_month_cnt3\n",
       "5   0.010781         pc_1_item_cnt_month2\n",
       "32  0.011153         pc_2_item_cnt_month2\n",
       "19  0.013332        pc_1_days_with_sales1\n",
       "39  0.013453  pc_2_items_in_sh_month_cnt3\n",
       "1   0.016595                      shop_id\n",
       "46  0.016933        pc_2_days_with_sales1\n",
       "0   0.028139               date_block_num\n",
       "2   0.124943                      item_id\n",
       "4   0.231223         pc_1_item_cnt_month1\n",
       "31  0.422426         pc_2_item_cnt_month1"
      ]
     },
     "execution_count": 20,
     "metadata": {
      "tags": []
     },
     "output_type": "execute_result"
    }
   ],
   "source": [
    "pd.DataFrame({'f':rfr.feature_importances_, 'v': X_cols}).sort_values('f')"
   ]
  },
  {
   "cell_type": "code",
   "execution_count": 0,
   "metadata": {
    "colab": {
     "base_uri": "https://localhost:8080/",
     "height": 68
    },
    "colab_type": "code",
    "executionInfo": {
     "elapsed": 4220350,
     "status": "ok",
     "timestamp": 1582621506259,
     "user": {
      "displayName": "Marat Khanbekov",
      "photoUrl": "",
      "userId": "13863223712125979771"
     },
     "user_tz": -180
    },
    "id": "zKs8BfNdWAkq",
    "outputId": "2f5ff45f-7db7-44e5-9710-c0ac228e3e92"
   },
   "outputs": [
    {
     "name": "stderr",
     "output_type": "stream",
     "text": [
      "[Parallel(n_jobs=10)]: Using backend ThreadingBackend with 10 concurrent workers.\n",
      "[Parallel(n_jobs=10)]: Done  30 out of  30 | elapsed:   20.8s finished\n"
     ]
    },
    {
     "data": {
      "text/plain": [
       "0.4865033361446712"
      ]
     },
     "execution_count": 21,
     "metadata": {
      "tags": []
     },
     "output_type": "execute_result"
    }
   ],
   "source": [
    "rfr.score(df_merged[X_cols], df_merged[y_col])"
   ]
  },
  {
   "cell_type": "code",
   "execution_count": 0,
   "metadata": {
    "colab": {},
    "colab_type": "code",
    "id": "FtFQ-eNoGXwQ"
   },
   "outputs": [],
   "source": [
    "# Features\n",
    "df_merged['month'] = df_merged['date_block_num']%12\n",
    "days = pd.Series([31, 28, 31, 30, 31, 30, 31, 31, 30, 31, 30, 31])\n",
    "df_merged['days'] = df_merged['month'].map(days).astype(np.int8)"
   ]
  },
  {
   "cell_type": "markdown",
   "metadata": {
    "colab_type": "text",
    "id": "d3cC0RJLLRuz"
   },
   "source": []
  },
  {
   "cell_type": "code",
   "execution_count": 0,
   "metadata": {
    "colab": {},
    "colab_type": "code",
    "id": "Udkeh0NU82dp"
   },
   "outputs": [],
   "source": [
    "df_merged['is_pack'] = np.where(df_merged['item_id']==20949, 1, 0)\n",
    "df_merged['is_ps_cash_in'] = np.where(df_merged['item_id']==5822, 1, 0)\n",
    "df_merged['is_1c_cash_in'] = np.where(df_merged['item_id']==17717, 1, 0)"
   ]
  },
  {
   "cell_type": "code",
   "execution_count": 0,
   "metadata": {
    "colab": {},
    "colab_type": "code",
    "id": "OS2e2FrKDidL"
   },
   "outputs": [],
   "source": [
    "df_merged.to_csv('output/df_total.csv')"
   ]
  },
  {
   "cell_type": "markdown",
   "metadata": {
    "colab_type": "text",
    "id": "D0-xMVm2q4UP"
   },
   "source": [
    "### Checkpoint"
   ]
  },
  {
   "cell_type": "code",
   "execution_count": 0,
   "metadata": {
    "colab": {},
    "colab_type": "code",
    "id": "gMJ7ib9FKox8"
   },
   "outputs": [],
   "source": [
    "df_merged = pd.read_csv('output/df_total.csv')"
   ]
  },
  {
   "cell_type": "markdown",
   "metadata": {
    "colab_type": "text",
    "id": "q45Ja8lNlbwa"
   },
   "source": []
  },
  {
   "cell_type": "markdown",
   "metadata": {
    "colab_type": "text",
    "id": "o8jVdMyAGXw2"
   },
   "source": [
    "### Train & Test split"
   ]
  },
  {
   "cell_type": "markdown",
   "metadata": {
    "colab_type": "text",
    "id": "UGeoglhWHTBm"
   },
   "source": []
  },
  {
   "cell_type": "code",
   "execution_count": 0,
   "metadata": {
    "colab": {},
    "colab_type": "code",
    "id": "3BXukeD1IJYT"
   },
   "outputs": [],
   "source": [
    "X_cols = [\n",
    "'date_block_num',\n",
    "'shop_id',\n",
    "'item_id',\n",
    "'ID',\n",
    "\n",
    "'pc_1_item_cnt_month1',\n",
    "'pc_1_item_cnt_month2',\n",
    "'pc_1_item_cnt_month3',\n",
    "'pc_1_shops_month_cnt1',\n",
    "'pc_1_shops_month_cnt2',\n",
    "'pc_1_shops_month_cnt3',\n",
    "'pc_1_items_in_sh_month_cnt1',\n",
    "'pc_1_items_in_sh_month_cnt2',\n",
    "'pc_1_items_in_sh_month_cnt3',\n",
    "'pc_1_items_type_month_cnt1',\n",
    "'pc_1_items_type_month_cnt2',\n",
    "'pc_1_items_type_month_cnt3',\n",
    "'pc_1_items_city_month_cnt1',\n",
    "'pc_1_items_city_month_cnt2',\n",
    "'pc_1_items_city_month_cnt3',\n",
    "'pc_1_days_with_sales1',\n",
    "'pc_1_days_with_sales2',\n",
    "'pc_1_days_with_sales3',\n",
    "'pc_1_price_cnt1',\n",
    "'pc_1_price_cnt2',\n",
    "'pc_1_price_cnt3',\n",
    "'pc_1_price_std1',\n",
    "'pc_1_price_std2',\n",
    "'pc_1_price_std3',\n",
    "'pc_1_price_mean1',\n",
    "'pc_1_price_mean2',\n",
    "'pc_1_price_mean3',\n",
    "\n",
    "'pc_2_item_cnt_month1',\n",
    "'pc_2_item_cnt_month2',\n",
    "'pc_2_item_cnt_month3',\n",
    "'pc_2_shops_month_cnt1',\n",
    "'pc_2_shops_month_cnt2',\n",
    "'pc_2_shops_month_cnt3',\n",
    "'pc_2_items_in_sh_month_cnt1',\n",
    "'pc_2_items_in_sh_month_cnt2',\n",
    "'pc_2_items_in_sh_month_cnt3',\n",
    "'pc_2_items_type_month_cnt1',\n",
    "'pc_2_items_type_month_cnt2',\n",
    "'pc_2_items_type_month_cnt3',\n",
    "'pc_2_items_city_month_cnt1',\n",
    "'pc_2_items_city_month_cnt2',\n",
    "'pc_2_items_city_month_cnt3',\n",
    "'pc_2_days_with_sales1',\n",
    "'pc_2_days_with_sales2',\n",
    "'pc_2_days_with_sales3',\n",
    "'pc_2_price_cnt1',\n",
    "'pc_2_price_cnt2',\n",
    "'pc_2_price_cnt3',\n",
    "'pc_2_price_std1',\n",
    "'pc_2_price_std2',\n",
    "'pc_2_price_std3',\n",
    "'pc_2_price_mean1',\n",
    "'pc_2_price_mean2',\n",
    "'pc_2_price_mean3',\n",
    "\n",
    "'month',\n",
    "'days',\n",
    "'is_pack',\n",
    "'is_ps_cash_in',\n",
    "'is_1c_cash_in'\n",
    "]"
   ]
  },
  {
   "cell_type": "code",
   "execution_count": 0,
   "metadata": {
    "colab": {},
    "colab_type": "code",
    "id": "Zhe3cnV6GXw4"
   },
   "outputs": [],
   "source": [
    "y_col =  'item_cnt_next'"
   ]
  },
  {
   "cell_type": "code",
   "execution_count": 0,
   "metadata": {
    "colab": {},
    "colab_type": "code",
    "id": "FmybuoBtS4To"
   },
   "outputs": [],
   "source": [
    "df_sample = df_merged.sample(round(df_merged.shape[0]*0.3))\n",
    "# df_sample = df_merged"
   ]
  },
  {
   "cell_type": "code",
   "execution_count": 0,
   "metadata": {
    "colab": {
     "base_uri": "https://localhost:8080/",
     "height": 34
    },
    "colab_type": "code",
    "executionInfo": {
     "elapsed": 9281,
     "status": "ok",
     "timestamp": 1582644792928,
     "user": {
      "displayName": "Marat Khanbekov",
      "photoUrl": "",
      "userId": "13863223712125979771"
     },
     "user_tz": -180
    },
    "id": "bbqSppuGGXw9",
    "outputId": "8d892e43-915f-4b33-9a1e-a841af18b187"
   },
   "outputs": [
    {
     "data": {
      "text/plain": [
       "(3202938, 63)"
      ]
     },
     "execution_count": 7,
     "metadata": {
      "tags": []
     },
     "output_type": "execute_result"
    }
   ],
   "source": [
    "X_train = df_sample[(df_sample['date_block_num']<33)][X_cols]\n",
    "y_train = df_sample[(df_sample['date_block_num']<33)]['item_cnt_month']\n",
    "X_train.shape"
   ]
  },
  {
   "cell_type": "code",
   "execution_count": 0,
   "metadata": {
    "colab": {
     "base_uri": "https://localhost:8080/",
     "height": 34
    },
    "colab_type": "code",
    "executionInfo": {
     "elapsed": 9265,
     "status": "ok",
     "timestamp": 1582644792929,
     "user": {
      "displayName": "Marat Khanbekov",
      "photoUrl": "",
      "userId": "13863223712125979771"
     },
     "user_tz": -180
    },
    "id": "QOHmCd_IGXxC",
    "outputId": "1e4e187e-1df4-42d7-a3bb-2b289bcb25b2"
   },
   "outputs": [
    {
     "data": {
      "text/plain": [
       "(238172, 63)"
      ]
     },
     "execution_count": 8,
     "metadata": {
      "tags": []
     },
     "output_type": "execute_result"
    }
   ],
   "source": [
    "X_valid = df_merged[df_merged['date_block_num']==33][X_cols]\n",
    "y_valid = df_merged[df_merged['date_block_num']==33]['item_cnt_month']\n",
    "X_valid.shape"
   ]
  },
  {
   "cell_type": "code",
   "execution_count": 0,
   "metadata": {
    "colab": {
     "base_uri": "https://localhost:8080/",
     "height": 34
    },
    "colab_type": "code",
    "executionInfo": {
     "elapsed": 9248,
     "status": "ok",
     "timestamp": 1582644792930,
     "user": {
      "displayName": "Marat Khanbekov",
      "photoUrl": "",
      "userId": "13863223712125979771"
     },
     "user_tz": -180
    },
    "id": "wY59RZ71GXxG",
    "outputId": "02b46fe8-9aca-4499-b422-b79ee6326cc8"
   },
   "outputs": [
    {
     "data": {
      "text/plain": [
       "(214200, 63)"
      ]
     },
     "execution_count": 9,
     "metadata": {
      "tags": []
     },
     "output_type": "execute_result"
    }
   ],
   "source": [
    "X_test = df_merged[df_merged['date_block_num']==34][X_cols]\n",
    "y_test = df_merged[df_merged['date_block_num']==34]['item_cnt_month']\n",
    "X_test.shape"
   ]
  },
  {
   "cell_type": "code",
   "execution_count": 0,
   "metadata": {
    "colab": {
     "base_uri": "https://localhost:8080/",
     "height": 34
    },
    "colab_type": "code",
    "executionInfo": {
     "elapsed": 150052,
     "status": "ok",
     "timestamp": 1582639060149,
     "user": {
      "displayName": "Marat Khanbekov",
      "photoUrl": "",
      "userId": "13863223712125979771"
     },
     "user_tz": -180
    },
    "id": "tK9QjXy9TOit",
    "outputId": "f451a3c7-a3df-4605-c954-afca0041d97c"
   },
   "outputs": [
    {
     "data": {
      "text/plain": [
       "0"
      ]
     },
     "execution_count": 10,
     "metadata": {
      "tags": []
     },
     "output_type": "execute_result"
    }
   ],
   "source": [
    "del df_merged, df_sample\n",
    "gc.collect()"
   ]
  },
  {
   "cell_type": "code",
   "execution_count": 0,
   "metadata": {
    "colab": {},
    "colab_type": "code",
    "id": "XCR0Ho7Ycgq8"
   },
   "outputs": [],
   "source": [
    "# X_train.to_csv('output/X_train.csv')\n",
    "# y_train.to_csv('output/y_train.csv')\n",
    "\n",
    "# X_valid.to_csv('output/X_valid.csv')\n",
    "# y_valid.to_csv('output/y_valid.csv')\n",
    "\n",
    "# X_test.to_csv('output/X_test.csv')\n",
    "# y_test.to_csv('output/y_test.csv')\n",
    "\n",
    "\n",
    "\n",
    "X_train = pd.read_csv('output/X_train.csv')\n",
    "y_train = pd.read_csv('output/y_train.csv')\n",
    "\n",
    "X_valid = pd.read_csv('output/X_valid.csv')\n",
    "y_valid = pd.read_csv('output/y_valid.csv')\n",
    "\n",
    "X_test = pd.read_csv('output/X_test.csv')\n",
    "y_test = pd.read_csv('output/y_test.csv')"
   ]
  },
  {
   "cell_type": "markdown",
   "metadata": {
    "colab_type": "text",
    "id": "4MHIv-F3GXxJ"
   },
   "source": [
    "### Predict"
   ]
  },
  {
   "cell_type": "code",
   "execution_count": 0,
   "metadata": {
    "colab": {},
    "colab_type": "code",
    "id": "imvGp_iNGXxL"
   },
   "outputs": [],
   "source": [
    "# dtr = lightgbm.LGBMRegressor(min_child_samples=20, n_estimators=1000)\n",
    "# dtr.fit(X_train, y_train)"
   ]
  },
  {
   "cell_type": "code",
   "execution_count": 0,
   "metadata": {
    "colab": {},
    "colab_type": "code",
    "id": "lozU8DcbGXxQ"
   },
   "outputs": [],
   "source": [
    "# pd.DataFrame({'col': list(X_train), 'FE': dtr.feature_importances_})\\\n",
    "#                 .sort_values('FE', ascending=False).head(10)"
   ]
  },
  {
   "cell_type": "code",
   "execution_count": 0,
   "metadata": {
    "colab": {
     "base_uri": "https://localhost:8080/",
     "height": 870
    },
    "colab_type": "code",
    "id": "NRQUnrbgGXxd",
    "outputId": "5cc3b467-5023-497b-bbfa-68c691226c0e"
   },
   "outputs": [
    {
     "name": "stderr",
     "output_type": "stream",
     "text": [
      "/usr/local/lib/python3.6/dist-packages/xgboost/core.py:587: FutureWarning: Series.base is deprecated and will be removed in a future version\n",
      "  if getattr(data, 'base', None) is not None and \\\n",
      "/usr/local/lib/python3.6/dist-packages/xgboost/core.py:588: FutureWarning: Series.base is deprecated and will be removed in a future version\n",
      "  data.base is not None and isinstance(data, np.ndarray) \\\n"
     ]
    },
    {
     "name": "stdout",
     "output_type": "stream",
     "text": [
      "[15:33:25] WARNING: /workspace/src/objective/regression_obj.cu:152: reg:linear is now deprecated in favor of reg:squarederror.\n",
      "[0]\tvalidation_0-rmse:1.21232\tvalidation_1-rmse:1.12937\n",
      "Multiple eval metrics have been passed: 'validation_1-rmse' will be used for early stopping.\n",
      "\n",
      "Will train until validation_1-rmse hasn't improved in 10 rounds.\n",
      "[1]\tvalidation_0-rmse:1.19555\tvalidation_1-rmse:1.09996\n",
      "[2]\tvalidation_0-rmse:1.18337\tvalidation_1-rmse:1.07723\n",
      "[3]\tvalidation_0-rmse:1.16178\tvalidation_1-rmse:1.05687\n",
      "[4]\tvalidation_0-rmse:1.14912\tvalidation_1-rmse:1.04146\n",
      "[5]\tvalidation_0-rmse:1.13946\tvalidation_1-rmse:1.02794\n",
      "[6]\tvalidation_0-rmse:1.12867\tvalidation_1-rmse:1.0185\n",
      "[7]\tvalidation_0-rmse:1.11518\tvalidation_1-rmse:1.00918\n",
      "[8]\tvalidation_0-rmse:1.10993\tvalidation_1-rmse:1.00185\n",
      "[9]\tvalidation_0-rmse:1.1057\tvalidation_1-rmse:0.994784\n",
      "[10]\tvalidation_0-rmse:1.10024\tvalidation_1-rmse:0.990216\n",
      "[11]\tvalidation_0-rmse:1.09691\tvalidation_1-rmse:0.985659\n",
      "[12]\tvalidation_0-rmse:1.09358\tvalidation_1-rmse:0.981587\n",
      "[13]\tvalidation_0-rmse:1.09144\tvalidation_1-rmse:0.978457\n",
      "[14]\tvalidation_0-rmse:1.08912\tvalidation_1-rmse:0.976332\n",
      "[15]\tvalidation_0-rmse:1.08726\tvalidation_1-rmse:0.974161\n",
      "[16]\tvalidation_0-rmse:1.08547\tvalidation_1-rmse:0.972514\n",
      "[17]\tvalidation_0-rmse:1.0839\tvalidation_1-rmse:0.970242\n",
      "[18]\tvalidation_0-rmse:1.08292\tvalidation_1-rmse:0.969124\n",
      "[19]\tvalidation_0-rmse:1.08153\tvalidation_1-rmse:0.968157\n",
      "[20]\tvalidation_0-rmse:1.08062\tvalidation_1-rmse:0.966925\n",
      "[21]\tvalidation_0-rmse:1.07958\tvalidation_1-rmse:0.965917\n",
      "[22]\tvalidation_0-rmse:1.07877\tvalidation_1-rmse:0.964864\n",
      "[23]\tvalidation_0-rmse:1.07829\tvalidation_1-rmse:0.964152\n",
      "[24]\tvalidation_0-rmse:1.07777\tvalidation_1-rmse:0.963805\n",
      "[25]\tvalidation_0-rmse:1.07726\tvalidation_1-rmse:0.963081\n",
      "[26]\tvalidation_0-rmse:1.07668\tvalidation_1-rmse:0.962862\n",
      "[27]\tvalidation_0-rmse:1.07616\tvalidation_1-rmse:0.962311\n",
      "[28]\tvalidation_0-rmse:1.07596\tvalidation_1-rmse:0.962204\n",
      "[29]\tvalidation_0-rmse:1.07565\tvalidation_1-rmse:0.962111\n",
      "[30]\tvalidation_0-rmse:1.07523\tvalidation_1-rmse:0.961953\n",
      "[31]\tvalidation_0-rmse:1.07505\tvalidation_1-rmse:0.961759\n",
      "[32]\tvalidation_0-rmse:1.07488\tvalidation_1-rmse:0.961655\n",
      "[33]\tvalidation_0-rmse:1.07464\tvalidation_1-rmse:0.961578\n",
      "[34]\tvalidation_0-rmse:1.07439\tvalidation_1-rmse:0.961659\n",
      "[35]\tvalidation_0-rmse:1.07424\tvalidation_1-rmse:0.961536\n",
      "[36]\tvalidation_0-rmse:1.07389\tvalidation_1-rmse:0.961309\n",
      "[37]\tvalidation_0-rmse:1.07377\tvalidation_1-rmse:0.961194\n",
      "[38]\tvalidation_0-rmse:1.07354\tvalidation_1-rmse:0.960934\n",
      "[39]\tvalidation_0-rmse:1.07347\tvalidation_1-rmse:0.960646\n",
      "[40]\tvalidation_0-rmse:1.07333\tvalidation_1-rmse:0.960477\n"
     ]
    }
   ],
   "source": [
    "ts = time.time()\n",
    "from xgboost import XGBRegressor\n",
    "model = XGBRegressor(\n",
    "    max_depth=8,\n",
    "    n_estimators=1000,\n",
    "    min_child_weight=300, \n",
    "    colsample_bytree=0.8, \n",
    "    subsample=0.1, \n",
    "    eta=0.3,    \n",
    "    seed=42)\n",
    "\n",
    "model.fit(\n",
    "    X_train, \n",
    "    y_train, \n",
    "    eval_metric=\"rmse\", \n",
    "    eval_set=[(X_train, y_train), (X_valid, y_valid)], \n",
    "    verbose=True, \n",
    "    early_stopping_rounds = 10)\n",
    "\n",
    "time.time() - ts"
   ]
  },
  {
   "cell_type": "code",
   "execution_count": 0,
   "metadata": {
    "colab": {},
    "colab_type": "code",
    "id": "AtVgTxK_oWsT"
   },
   "outputs": [],
   "source": [
    "from xgboost import plot_importance\n",
    "\n",
    "def plot_features(booster, figsize):    \n",
    "    fig, ax = plt.subplots(1,1,figsize=figsize)\n",
    "    return plot_importance(booster=booster, ax=ax)\n",
    "\n",
    "plot_features(model, (10,14))"
   ]
  },
  {
   "cell_type": "code",
   "execution_count": 0,
   "metadata": {
    "colab": {
     "base_uri": "https://localhost:8080/",
     "height": 34
    },
    "colab_type": "code",
    "executionInfo": {
     "elapsed": 19973,
     "status": "ok",
     "timestamp": 1582636436012,
     "user": {
      "displayName": "Marat Khanbekov",
      "photoUrl": "",
      "userId": "13863223712125979771"
     },
     "user_tz": -180
    },
    "id": "YUdkeAxJGXyE",
    "outputId": "3b7c5575-dc7d-42d5-b5a6-c6d8db6650e6"
   },
   "outputs": [
    {
     "name": "stdout",
     "output_type": "stream",
     "text": [
      "Train: 1.075\n"
     ]
    }
   ],
   "source": [
    "preds_train = model.predict(X_train)\n",
    "print('Train:', rmse(y_train, preds_train))\n",
    "# plt.scatter(x=preds_train, y=y_train)"
   ]
  },
  {
   "cell_type": "code",
   "execution_count": 0,
   "metadata": {
    "colab": {
     "base_uri": "https://localhost:8080/",
     "height": 34
    },
    "colab_type": "code",
    "executionInfo": {
     "elapsed": 20487,
     "status": "ok",
     "timestamp": 1582636437662,
     "user": {
      "displayName": "Marat Khanbekov",
      "photoUrl": "",
      "userId": "13863223712125979771"
     },
     "user_tz": -180
    },
    "id": "u7MvRv10GXyN",
    "outputId": "1e489a80-76ee-452f-9ba4-31a9dd0bcbbe"
   },
   "outputs": [
    {
     "name": "stdout",
     "output_type": "stream",
     "text": [
      "Valid: 0.961\n"
     ]
    }
   ],
   "source": [
    "preds_valid = model.predict(X_valid)\n",
    "print('Valid:', rmse(y_valid, preds_valid))\n",
    "# plt.scatter(x=preds_valid, y=y_valid)"
   ]
  },
  {
   "cell_type": "code",
   "execution_count": 0,
   "metadata": {
    "colab": {},
    "colab_type": "code",
    "id": "e_N0rBkN8cvj"
   },
   "outputs": [],
   "source": [
    "filename = 'xg_model_2.sav'"
   ]
  },
  {
   "cell_type": "code",
   "execution_count": 0,
   "metadata": {
    "colab": {},
    "colab_type": "code",
    "id": "pTLaVEQ_8Q8q"
   },
   "outputs": [],
   "source": [
    "import pickle\n",
    "pickle.dump(model, open('output/'+filename, 'wb'))"
   ]
  },
  {
   "cell_type": "code",
   "execution_count": 0,
   "metadata": {
    "colab": {},
    "colab_type": "code",
    "id": "eTw6gSri8YsM"
   },
   "outputs": [],
   "source": [
    "loaded_model = pickle.load(open('output/'+filename, 'rb'))"
   ]
  },
  {
   "cell_type": "markdown",
   "metadata": {
    "colab_type": "text",
    "id": "Dnw6YPnNGXyS"
   },
   "source": [
    "### Submission"
   ]
  },
  {
   "cell_type": "code",
   "execution_count": 0,
   "metadata": {
    "colab": {
     "base_uri": "https://localhost:8080/",
     "height": 34
    },
    "colab_type": "code",
    "executionInfo": {
     "elapsed": 2105,
     "status": "ok",
     "timestamp": 1582636465907,
     "user": {
      "displayName": "Marat Khanbekov",
      "photoUrl": "",
      "userId": "13863223712125979771"
     },
     "user_tz": -180
    },
    "id": "F8j2Oz2x8j8a",
    "outputId": "25237d8a-9776-406e-bfda-e0a9b62bcb64"
   },
   "outputs": [
    {
     "data": {
      "text/plain": [
       "(214200, 63)"
      ]
     },
     "execution_count": 18,
     "metadata": {
      "tags": []
     },
     "output_type": "execute_result"
    }
   ],
   "source": [
    "X_test = df_total[df_total['date_block_num']==34][X_cols]\n",
    "y_test = df_total[df_total['date_block_num']==34]['item_cnt_month']\n",
    "X_test.shape"
   ]
  },
  {
   "cell_type": "code",
   "execution_count": 0,
   "metadata": {
    "colab": {},
    "colab_type": "code",
    "id": "N7gYVZVpGXyT"
   },
   "outputs": [],
   "source": [
    "y_test_preds = model.predict(X_test).clip(0, 20)\n",
    "submission = pd.DataFrame({\n",
    "    \"ID\": df_total[df_total.date_block_num==34]['ID'],\n",
    "    \"item_cnt_month\": y_test_preds\n",
    "})\n",
    "submission['ID'] = submission['ID'].astype(np.int32)\n",
    "submission.to_csv('submission_2.csv', index=False)"
   ]
  },
  {
   "cell_type": "code",
   "execution_count": 0,
   "metadata": {
    "colab": {
     "base_uri": "https://localhost:8080/",
     "height": 61
    },
    "colab_type": "code",
    "executionInfo": {
     "elapsed": 2501,
     "status": "ok",
     "timestamp": 1582126987905,
     "user": {
      "displayName": "Marat Khanbekov",
      "photoUrl": "",
      "userId": "13863223712125979771"
     },
     "user_tz": -180
    },
    "id": "Yivx4ylKHWBt",
    "outputId": "3b9f332a-47a2-4434-857c-fd2b2531a75e"
   },
   "outputs": [
    {
     "name": "stdout",
     "output_type": "stream",
     "text": [
      "fatal: not a git repository (or any parent up to mount point /content)\n",
      "Stopping at filesystem boundary (GIT_DISCOVERY_ACROSS_FILESYSTEM not set).\n"
     ]
    }
   ],
   "source": [
    "!git commit -am 'refine baseline'"
   ]
  }
 ],
 "metadata": {
  "colab": {
   "collapsed_sections": [
    "zxKxdS8gJ20E"
   ],
   "machine_shape": "hm",
   "name": "baseline v2.ipynb",
   "provenance": [
    {
     "file_id": "1n71_jnQVOxrv2odR0jiAnYwLhjg4EgY8",
     "timestamp": 1582018491502
    }
   ],
   "toc_visible": true
  },
  "kernelspec": {
   "display_name": "Python 3",
   "language": "python",
   "name": "python3"
  },
  "language_info": {
   "codemirror_mode": {
    "name": "ipython",
    "version": 3
   },
   "file_extension": ".py",
   "mimetype": "text/x-python",
   "name": "python",
   "nbconvert_exporter": "python",
   "pygments_lexer": "ipython3",
   "version": "3.7.4"
  },
  "toc": {
   "base_numbering": 1,
   "nav_menu": {},
   "number_sections": true,
   "sideBar": true,
   "skip_h1_title": false,
   "title_cell": "Table of Contents",
   "title_sidebar": "Contents",
   "toc_cell": false,
   "toc_position": {
    "height": "calc(100% - 180px)",
    "left": "10px",
    "top": "150px",
    "width": "165px"
   },
   "toc_section_display": true,
   "toc_window_display": true
  }
 },
 "nbformat": 4,
 "nbformat_minor": 1
}
